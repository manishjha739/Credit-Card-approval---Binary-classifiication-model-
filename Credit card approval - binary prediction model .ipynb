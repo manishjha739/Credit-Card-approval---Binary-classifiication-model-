{
 "cells": [
  {
   "cell_type": "markdown",
   "id": "c3ade15d",
   "metadata": {},
   "source": [
    "## About project\n",
    "\n",
    "### Credit Card Approval — A binary classification task for good or bad credit scores, if the people can be a risk for defaulting credit card loans.\n",
    "\n",
    "## Task \n",
    "### Build a machine learning model to predict if an applicant is 'good' or 'bad' client, different from other tasks, the definition of 'good' or 'bad' is not given, unbalance data problem is a big problem in this task."
   ]
  },
  {
   "cell_type": "markdown",
   "id": "8c91326a",
   "metadata": {},
   "source": [
    "### Importing Libraries "
   ]
  },
  {
   "cell_type": "code",
   "execution_count": 1,
   "id": "2fd21e65",
   "metadata": {},
   "outputs": [],
   "source": [
    "import numpy as np\n",
    "import pandas as pd\n",
    "import matplotlib.pyplot as plt \n",
    "import seaborn as sns\n",
    "\n",
    "import warnings\n",
    "warnings.filterwarnings(\"ignore\")"
   ]
  },
  {
   "cell_type": "markdown",
   "id": "cf62abe5",
   "metadata": {},
   "source": [
    "### Loading and reading data"
   ]
  },
  {
   "cell_type": "code",
   "execution_count": 2,
   "id": "a63fa9ce",
   "metadata": {},
   "outputs": [],
   "source": [
    "application = pd.read_csv('application_record.csv')\n",
    "credit = pd.read_csv('credit_record.csv')"
   ]
  },
  {
   "cell_type": "code",
   "execution_count": 3,
   "id": "d1e96fde",
   "metadata": {},
   "outputs": [
    {
     "data": {
      "text/html": [
       "<div>\n",
       "<style scoped>\n",
       "    .dataframe tbody tr th:only-of-type {\n",
       "        vertical-align: middle;\n",
       "    }\n",
       "\n",
       "    .dataframe tbody tr th {\n",
       "        vertical-align: top;\n",
       "    }\n",
       "\n",
       "    .dataframe thead th {\n",
       "        text-align: right;\n",
       "    }\n",
       "</style>\n",
       "<table border=\"1\" class=\"dataframe\">\n",
       "  <thead>\n",
       "    <tr style=\"text-align: right;\">\n",
       "      <th></th>\n",
       "      <th>ID</th>\n",
       "      <th>CODE_GENDER</th>\n",
       "      <th>FLAG_OWN_CAR</th>\n",
       "      <th>FLAG_OWN_REALTY</th>\n",
       "      <th>CNT_CHILDREN</th>\n",
       "      <th>AMT_INCOME_TOTAL</th>\n",
       "      <th>NAME_INCOME_TYPE</th>\n",
       "      <th>NAME_EDUCATION_TYPE</th>\n",
       "      <th>NAME_FAMILY_STATUS</th>\n",
       "      <th>NAME_HOUSING_TYPE</th>\n",
       "      <th>DAYS_BIRTH</th>\n",
       "      <th>DAYS_EMPLOYED</th>\n",
       "      <th>FLAG_MOBIL</th>\n",
       "      <th>FLAG_WORK_PHONE</th>\n",
       "      <th>FLAG_PHONE</th>\n",
       "      <th>FLAG_EMAIL</th>\n",
       "      <th>OCCUPATION_TYPE</th>\n",
       "      <th>CNT_FAM_MEMBERS</th>\n",
       "    </tr>\n",
       "  </thead>\n",
       "  <tbody>\n",
       "    <tr>\n",
       "      <th>248442</th>\n",
       "      <td>6046372</td>\n",
       "      <td>M</td>\n",
       "      <td>N</td>\n",
       "      <td>Y</td>\n",
       "      <td>1</td>\n",
       "      <td>180000.0</td>\n",
       "      <td>Working</td>\n",
       "      <td>Secondary / secondary special</td>\n",
       "      <td>Civil marriage</td>\n",
       "      <td>Rented apartment</td>\n",
       "      <td>-16140</td>\n",
       "      <td>-425</td>\n",
       "      <td>1</td>\n",
       "      <td>0</td>\n",
       "      <td>0</td>\n",
       "      <td>1</td>\n",
       "      <td>Drivers</td>\n",
       "      <td>3.0</td>\n",
       "    </tr>\n",
       "    <tr>\n",
       "      <th>14900</th>\n",
       "      <td>5042090</td>\n",
       "      <td>F</td>\n",
       "      <td>Y</td>\n",
       "      <td>N</td>\n",
       "      <td>0</td>\n",
       "      <td>315000.0</td>\n",
       "      <td>Commercial associate</td>\n",
       "      <td>Higher education</td>\n",
       "      <td>Married</td>\n",
       "      <td>House / apartment</td>\n",
       "      <td>-19495</td>\n",
       "      <td>-1678</td>\n",
       "      <td>1</td>\n",
       "      <td>0</td>\n",
       "      <td>1</td>\n",
       "      <td>0</td>\n",
       "      <td>Accountants</td>\n",
       "      <td>2.0</td>\n",
       "    </tr>\n",
       "    <tr>\n",
       "      <th>280359</th>\n",
       "      <td>6120733</td>\n",
       "      <td>F</td>\n",
       "      <td>Y</td>\n",
       "      <td>Y</td>\n",
       "      <td>2</td>\n",
       "      <td>135000.0</td>\n",
       "      <td>Working</td>\n",
       "      <td>Higher education</td>\n",
       "      <td>Married</td>\n",
       "      <td>House / apartment</td>\n",
       "      <td>-13533</td>\n",
       "      <td>-4854</td>\n",
       "      <td>1</td>\n",
       "      <td>0</td>\n",
       "      <td>0</td>\n",
       "      <td>1</td>\n",
       "      <td>Laborers</td>\n",
       "      <td>4.0</td>\n",
       "    </tr>\n",
       "    <tr>\n",
       "      <th>329107</th>\n",
       "      <td>6317622</td>\n",
       "      <td>F</td>\n",
       "      <td>N</td>\n",
       "      <td>Y</td>\n",
       "      <td>0</td>\n",
       "      <td>126000.0</td>\n",
       "      <td>Working</td>\n",
       "      <td>Higher education</td>\n",
       "      <td>Married</td>\n",
       "      <td>House / apartment</td>\n",
       "      <td>-22898</td>\n",
       "      <td>-1063</td>\n",
       "      <td>1</td>\n",
       "      <td>0</td>\n",
       "      <td>0</td>\n",
       "      <td>1</td>\n",
       "      <td>Core staff</td>\n",
       "      <td>2.0</td>\n",
       "    </tr>\n",
       "    <tr>\n",
       "      <th>131710</th>\n",
       "      <td>5619491</td>\n",
       "      <td>M</td>\n",
       "      <td>Y</td>\n",
       "      <td>Y</td>\n",
       "      <td>0</td>\n",
       "      <td>261000.0</td>\n",
       "      <td>Pensioner</td>\n",
       "      <td>Secondary / secondary special</td>\n",
       "      <td>Married</td>\n",
       "      <td>House / apartment</td>\n",
       "      <td>-21782</td>\n",
       "      <td>365243</td>\n",
       "      <td>1</td>\n",
       "      <td>0</td>\n",
       "      <td>0</td>\n",
       "      <td>0</td>\n",
       "      <td>NaN</td>\n",
       "      <td>2.0</td>\n",
       "    </tr>\n",
       "    <tr>\n",
       "      <th>182112</th>\n",
       "      <td>5840041</td>\n",
       "      <td>F</td>\n",
       "      <td>N</td>\n",
       "      <td>N</td>\n",
       "      <td>1</td>\n",
       "      <td>315000.0</td>\n",
       "      <td>Working</td>\n",
       "      <td>Secondary / secondary special</td>\n",
       "      <td>Married</td>\n",
       "      <td>Municipal apartment</td>\n",
       "      <td>-13296</td>\n",
       "      <td>-1248</td>\n",
       "      <td>1</td>\n",
       "      <td>1</td>\n",
       "      <td>1</td>\n",
       "      <td>0</td>\n",
       "      <td>Laborers</td>\n",
       "      <td>3.0</td>\n",
       "    </tr>\n",
       "    <tr>\n",
       "      <th>379699</th>\n",
       "      <td>6603513</td>\n",
       "      <td>F</td>\n",
       "      <td>N</td>\n",
       "      <td>Y</td>\n",
       "      <td>0</td>\n",
       "      <td>135000.0</td>\n",
       "      <td>Working</td>\n",
       "      <td>Higher education</td>\n",
       "      <td>Married</td>\n",
       "      <td>House / apartment</td>\n",
       "      <td>-10812</td>\n",
       "      <td>-1832</td>\n",
       "      <td>1</td>\n",
       "      <td>1</td>\n",
       "      <td>0</td>\n",
       "      <td>0</td>\n",
       "      <td>Core staff</td>\n",
       "      <td>2.0</td>\n",
       "    </tr>\n",
       "    <tr>\n",
       "      <th>42280</th>\n",
       "      <td>5117529</td>\n",
       "      <td>F</td>\n",
       "      <td>N</td>\n",
       "      <td>N</td>\n",
       "      <td>1</td>\n",
       "      <td>144000.0</td>\n",
       "      <td>Working</td>\n",
       "      <td>Secondary / secondary special</td>\n",
       "      <td>Single / not married</td>\n",
       "      <td>Rented apartment</td>\n",
       "      <td>-14427</td>\n",
       "      <td>-3506</td>\n",
       "      <td>1</td>\n",
       "      <td>1</td>\n",
       "      <td>1</td>\n",
       "      <td>0</td>\n",
       "      <td>High skill tech staff</td>\n",
       "      <td>2.0</td>\n",
       "    </tr>\n",
       "    <tr>\n",
       "      <th>102988</th>\n",
       "      <td>5427866</td>\n",
       "      <td>F</td>\n",
       "      <td>N</td>\n",
       "      <td>N</td>\n",
       "      <td>0</td>\n",
       "      <td>153000.0</td>\n",
       "      <td>Working</td>\n",
       "      <td>Secondary / secondary special</td>\n",
       "      <td>Single / not married</td>\n",
       "      <td>House / apartment</td>\n",
       "      <td>-20590</td>\n",
       "      <td>-5266</td>\n",
       "      <td>1</td>\n",
       "      <td>0</td>\n",
       "      <td>1</td>\n",
       "      <td>0</td>\n",
       "      <td>High skill tech staff</td>\n",
       "      <td>1.0</td>\n",
       "    </tr>\n",
       "    <tr>\n",
       "      <th>254834</th>\n",
       "      <td>6063048</td>\n",
       "      <td>M</td>\n",
       "      <td>Y</td>\n",
       "      <td>N</td>\n",
       "      <td>1</td>\n",
       "      <td>171000.0</td>\n",
       "      <td>Working</td>\n",
       "      <td>Secondary / secondary special</td>\n",
       "      <td>Married</td>\n",
       "      <td>House / apartment</td>\n",
       "      <td>-10761</td>\n",
       "      <td>-246</td>\n",
       "      <td>1</td>\n",
       "      <td>0</td>\n",
       "      <td>0</td>\n",
       "      <td>0</td>\n",
       "      <td>Drivers</td>\n",
       "      <td>3.0</td>\n",
       "    </tr>\n",
       "  </tbody>\n",
       "</table>\n",
       "</div>"
      ],
      "text/plain": [
       "             ID CODE_GENDER FLAG_OWN_CAR FLAG_OWN_REALTY  CNT_CHILDREN  \\\n",
       "248442  6046372           M            N               Y             1   \n",
       "14900   5042090           F            Y               N             0   \n",
       "280359  6120733           F            Y               Y             2   \n",
       "329107  6317622           F            N               Y             0   \n",
       "131710  5619491           M            Y               Y             0   \n",
       "182112  5840041           F            N               N             1   \n",
       "379699  6603513           F            N               Y             0   \n",
       "42280   5117529           F            N               N             1   \n",
       "102988  5427866           F            N               N             0   \n",
       "254834  6063048           M            Y               N             1   \n",
       "\n",
       "        AMT_INCOME_TOTAL      NAME_INCOME_TYPE            NAME_EDUCATION_TYPE  \\\n",
       "248442          180000.0               Working  Secondary / secondary special   \n",
       "14900           315000.0  Commercial associate               Higher education   \n",
       "280359          135000.0               Working               Higher education   \n",
       "329107          126000.0               Working               Higher education   \n",
       "131710          261000.0             Pensioner  Secondary / secondary special   \n",
       "182112          315000.0               Working  Secondary / secondary special   \n",
       "379699          135000.0               Working               Higher education   \n",
       "42280           144000.0               Working  Secondary / secondary special   \n",
       "102988          153000.0               Working  Secondary / secondary special   \n",
       "254834          171000.0               Working  Secondary / secondary special   \n",
       "\n",
       "          NAME_FAMILY_STATUS    NAME_HOUSING_TYPE  DAYS_BIRTH  DAYS_EMPLOYED  \\\n",
       "248442        Civil marriage     Rented apartment      -16140           -425   \n",
       "14900                Married    House / apartment      -19495          -1678   \n",
       "280359               Married    House / apartment      -13533          -4854   \n",
       "329107               Married    House / apartment      -22898          -1063   \n",
       "131710               Married    House / apartment      -21782         365243   \n",
       "182112               Married  Municipal apartment      -13296          -1248   \n",
       "379699               Married    House / apartment      -10812          -1832   \n",
       "42280   Single / not married     Rented apartment      -14427          -3506   \n",
       "102988  Single / not married    House / apartment      -20590          -5266   \n",
       "254834               Married    House / apartment      -10761           -246   \n",
       "\n",
       "        FLAG_MOBIL  FLAG_WORK_PHONE  FLAG_PHONE  FLAG_EMAIL  \\\n",
       "248442           1                0           0           1   \n",
       "14900            1                0           1           0   \n",
       "280359           1                0           0           1   \n",
       "329107           1                0           0           1   \n",
       "131710           1                0           0           0   \n",
       "182112           1                1           1           0   \n",
       "379699           1                1           0           0   \n",
       "42280            1                1           1           0   \n",
       "102988           1                0           1           0   \n",
       "254834           1                0           0           0   \n",
       "\n",
       "              OCCUPATION_TYPE  CNT_FAM_MEMBERS  \n",
       "248442                Drivers              3.0  \n",
       "14900             Accountants              2.0  \n",
       "280359               Laborers              4.0  \n",
       "329107             Core staff              2.0  \n",
       "131710                    NaN              2.0  \n",
       "182112               Laborers              3.0  \n",
       "379699             Core staff              2.0  \n",
       "42280   High skill tech staff              2.0  \n",
       "102988  High skill tech staff              1.0  \n",
       "254834                Drivers              3.0  "
      ]
     },
     "execution_count": 3,
     "metadata": {},
     "output_type": "execute_result"
    }
   ],
   "source": [
    "application.sample(10)"
   ]
  },
  {
   "cell_type": "code",
   "execution_count": 4,
   "id": "6bb05560",
   "metadata": {},
   "outputs": [
    {
     "data": {
      "text/html": [
       "<div>\n",
       "<style scoped>\n",
       "    .dataframe tbody tr th:only-of-type {\n",
       "        vertical-align: middle;\n",
       "    }\n",
       "\n",
       "    .dataframe tbody tr th {\n",
       "        vertical-align: top;\n",
       "    }\n",
       "\n",
       "    .dataframe thead th {\n",
       "        text-align: right;\n",
       "    }\n",
       "</style>\n",
       "<table border=\"1\" class=\"dataframe\">\n",
       "  <thead>\n",
       "    <tr style=\"text-align: right;\">\n",
       "      <th></th>\n",
       "      <th>ID</th>\n",
       "      <th>MONTHS_BALANCE</th>\n",
       "      <th>STATUS</th>\n",
       "    </tr>\n",
       "  </thead>\n",
       "  <tbody>\n",
       "    <tr>\n",
       "      <th>394361</th>\n",
       "      <td>5046223</td>\n",
       "      <td>-23</td>\n",
       "      <td>X</td>\n",
       "    </tr>\n",
       "    <tr>\n",
       "      <th>607883</th>\n",
       "      <td>5078736</td>\n",
       "      <td>-15</td>\n",
       "      <td>X</td>\n",
       "    </tr>\n",
       "    <tr>\n",
       "      <th>301873</th>\n",
       "      <td>5028710</td>\n",
       "      <td>-13</td>\n",
       "      <td>C</td>\n",
       "    </tr>\n",
       "    <tr>\n",
       "      <th>1029510</th>\n",
       "      <td>5149170</td>\n",
       "      <td>-10</td>\n",
       "      <td>C</td>\n",
       "    </tr>\n",
       "    <tr>\n",
       "      <th>704537</th>\n",
       "      <td>5095779</td>\n",
       "      <td>-31</td>\n",
       "      <td>0</td>\n",
       "    </tr>\n",
       "    <tr>\n",
       "      <th>395267</th>\n",
       "      <td>5046263</td>\n",
       "      <td>-37</td>\n",
       "      <td>0</td>\n",
       "    </tr>\n",
       "    <tr>\n",
       "      <th>769543</th>\n",
       "      <td>5112849</td>\n",
       "      <td>-37</td>\n",
       "      <td>C</td>\n",
       "    </tr>\n",
       "    <tr>\n",
       "      <th>1035171</th>\n",
       "      <td>5149498</td>\n",
       "      <td>-8</td>\n",
       "      <td>0</td>\n",
       "    </tr>\n",
       "    <tr>\n",
       "      <th>330121</th>\n",
       "      <td>5033887</td>\n",
       "      <td>-28</td>\n",
       "      <td>X</td>\n",
       "    </tr>\n",
       "    <tr>\n",
       "      <th>861969</th>\n",
       "      <td>5120171</td>\n",
       "      <td>-22</td>\n",
       "      <td>0</td>\n",
       "    </tr>\n",
       "  </tbody>\n",
       "</table>\n",
       "</div>"
      ],
      "text/plain": [
       "              ID  MONTHS_BALANCE STATUS\n",
       "394361   5046223             -23      X\n",
       "607883   5078736             -15      X\n",
       "301873   5028710             -13      C\n",
       "1029510  5149170             -10      C\n",
       "704537   5095779             -31      0\n",
       "395267   5046263             -37      0\n",
       "769543   5112849             -37      C\n",
       "1035171  5149498              -8      0\n",
       "330121   5033887             -28      X\n",
       "861969   5120171             -22      0"
      ]
     },
     "execution_count": 4,
     "metadata": {},
     "output_type": "execute_result"
    }
   ],
   "source": [
    "credit.sample(10)"
   ]
  },
  {
   "cell_type": "markdown",
   "id": "4ca24157",
   "metadata": {},
   "source": [
    "### Merging application and credit data to make a single Dataset (df)"
   ]
  },
  {
   "cell_type": "code",
   "execution_count": 5,
   "id": "c0735d39",
   "metadata": {},
   "outputs": [],
   "source": [
    "df = pd.merge(application,credit, on = 'ID', how = 'inner')"
   ]
  },
  {
   "cell_type": "code",
   "execution_count": 6,
   "id": "9caecff7",
   "metadata": {},
   "outputs": [
    {
     "data": {
      "text/html": [
       "<div>\n",
       "<style scoped>\n",
       "    .dataframe tbody tr th:only-of-type {\n",
       "        vertical-align: middle;\n",
       "    }\n",
       "\n",
       "    .dataframe tbody tr th {\n",
       "        vertical-align: top;\n",
       "    }\n",
       "\n",
       "    .dataframe thead th {\n",
       "        text-align: right;\n",
       "    }\n",
       "</style>\n",
       "<table border=\"1\" class=\"dataframe\">\n",
       "  <thead>\n",
       "    <tr style=\"text-align: right;\">\n",
       "      <th></th>\n",
       "      <th>ID</th>\n",
       "      <th>CODE_GENDER</th>\n",
       "      <th>FLAG_OWN_CAR</th>\n",
       "      <th>FLAG_OWN_REALTY</th>\n",
       "      <th>CNT_CHILDREN</th>\n",
       "      <th>AMT_INCOME_TOTAL</th>\n",
       "      <th>NAME_INCOME_TYPE</th>\n",
       "      <th>NAME_EDUCATION_TYPE</th>\n",
       "      <th>NAME_FAMILY_STATUS</th>\n",
       "      <th>NAME_HOUSING_TYPE</th>\n",
       "      <th>DAYS_BIRTH</th>\n",
       "      <th>DAYS_EMPLOYED</th>\n",
       "      <th>FLAG_MOBIL</th>\n",
       "      <th>FLAG_WORK_PHONE</th>\n",
       "      <th>FLAG_PHONE</th>\n",
       "      <th>FLAG_EMAIL</th>\n",
       "      <th>OCCUPATION_TYPE</th>\n",
       "      <th>CNT_FAM_MEMBERS</th>\n",
       "      <th>MONTHS_BALANCE</th>\n",
       "      <th>STATUS</th>\n",
       "    </tr>\n",
       "  </thead>\n",
       "  <tbody>\n",
       "    <tr>\n",
       "      <th>775906</th>\n",
       "      <td>5118279</td>\n",
       "      <td>F</td>\n",
       "      <td>N</td>\n",
       "      <td>N</td>\n",
       "      <td>0</td>\n",
       "      <td>112500.0</td>\n",
       "      <td>Pensioner</td>\n",
       "      <td>Secondary / secondary special</td>\n",
       "      <td>Married</td>\n",
       "      <td>Municipal apartment</td>\n",
       "      <td>-21363</td>\n",
       "      <td>365243</td>\n",
       "      <td>1</td>\n",
       "      <td>0</td>\n",
       "      <td>0</td>\n",
       "      <td>0</td>\n",
       "      <td>NaN</td>\n",
       "      <td>2.0</td>\n",
       "      <td>-7</td>\n",
       "      <td>C</td>\n",
       "    </tr>\n",
       "    <tr>\n",
       "      <th>162032</th>\n",
       "      <td>5036691</td>\n",
       "      <td>F</td>\n",
       "      <td>N</td>\n",
       "      <td>Y</td>\n",
       "      <td>1</td>\n",
       "      <td>67500.0</td>\n",
       "      <td>Working</td>\n",
       "      <td>Higher education</td>\n",
       "      <td>Married</td>\n",
       "      <td>House / apartment</td>\n",
       "      <td>-13212</td>\n",
       "      <td>-888</td>\n",
       "      <td>1</td>\n",
       "      <td>0</td>\n",
       "      <td>0</td>\n",
       "      <td>0</td>\n",
       "      <td>Sales staff</td>\n",
       "      <td>3.0</td>\n",
       "      <td>-44</td>\n",
       "      <td>X</td>\n",
       "    </tr>\n",
       "    <tr>\n",
       "      <th>102183</th>\n",
       "      <td>5024846</td>\n",
       "      <td>F</td>\n",
       "      <td>N</td>\n",
       "      <td>Y</td>\n",
       "      <td>0</td>\n",
       "      <td>157500.0</td>\n",
       "      <td>Working</td>\n",
       "      <td>Higher education</td>\n",
       "      <td>Single / not married</td>\n",
       "      <td>House / apartment</td>\n",
       "      <td>-11511</td>\n",
       "      <td>-519</td>\n",
       "      <td>1</td>\n",
       "      <td>0</td>\n",
       "      <td>0</td>\n",
       "      <td>0</td>\n",
       "      <td>High skill tech staff</td>\n",
       "      <td>1.0</td>\n",
       "      <td>0</td>\n",
       "      <td>C</td>\n",
       "    </tr>\n",
       "    <tr>\n",
       "      <th>319861</th>\n",
       "      <td>5061821</td>\n",
       "      <td>F</td>\n",
       "      <td>N</td>\n",
       "      <td>Y</td>\n",
       "      <td>0</td>\n",
       "      <td>112500.0</td>\n",
       "      <td>Working</td>\n",
       "      <td>Incomplete higher</td>\n",
       "      <td>Single / not married</td>\n",
       "      <td>Rented apartment</td>\n",
       "      <td>-8347</td>\n",
       "      <td>-1598</td>\n",
       "      <td>1</td>\n",
       "      <td>0</td>\n",
       "      <td>0</td>\n",
       "      <td>0</td>\n",
       "      <td>Laborers</td>\n",
       "      <td>1.0</td>\n",
       "      <td>-5</td>\n",
       "      <td>0</td>\n",
       "    </tr>\n",
       "    <tr>\n",
       "      <th>285487</th>\n",
       "      <td>5054263</td>\n",
       "      <td>M</td>\n",
       "      <td>Y</td>\n",
       "      <td>N</td>\n",
       "      <td>2</td>\n",
       "      <td>427500.0</td>\n",
       "      <td>Commercial associate</td>\n",
       "      <td>Higher education</td>\n",
       "      <td>Married</td>\n",
       "      <td>House / apartment</td>\n",
       "      <td>-14561</td>\n",
       "      <td>-4745</td>\n",
       "      <td>1</td>\n",
       "      <td>0</td>\n",
       "      <td>1</td>\n",
       "      <td>0</td>\n",
       "      <td>NaN</td>\n",
       "      <td>4.0</td>\n",
       "      <td>-8</td>\n",
       "      <td>C</td>\n",
       "    </tr>\n",
       "  </tbody>\n",
       "</table>\n",
       "</div>"
      ],
      "text/plain": [
       "             ID CODE_GENDER FLAG_OWN_CAR FLAG_OWN_REALTY  CNT_CHILDREN  \\\n",
       "775906  5118279           F            N               N             0   \n",
       "162032  5036691           F            N               Y             1   \n",
       "102183  5024846           F            N               Y             0   \n",
       "319861  5061821           F            N               Y             0   \n",
       "285487  5054263           M            Y               N             2   \n",
       "\n",
       "        AMT_INCOME_TOTAL      NAME_INCOME_TYPE            NAME_EDUCATION_TYPE  \\\n",
       "775906          112500.0             Pensioner  Secondary / secondary special   \n",
       "162032           67500.0               Working               Higher education   \n",
       "102183          157500.0               Working               Higher education   \n",
       "319861          112500.0               Working              Incomplete higher   \n",
       "285487          427500.0  Commercial associate               Higher education   \n",
       "\n",
       "          NAME_FAMILY_STATUS    NAME_HOUSING_TYPE  DAYS_BIRTH  DAYS_EMPLOYED  \\\n",
       "775906               Married  Municipal apartment      -21363         365243   \n",
       "162032               Married    House / apartment      -13212           -888   \n",
       "102183  Single / not married    House / apartment      -11511           -519   \n",
       "319861  Single / not married     Rented apartment       -8347          -1598   \n",
       "285487               Married    House / apartment      -14561          -4745   \n",
       "\n",
       "        FLAG_MOBIL  FLAG_WORK_PHONE  FLAG_PHONE  FLAG_EMAIL  \\\n",
       "775906           1                0           0           0   \n",
       "162032           1                0           0           0   \n",
       "102183           1                0           0           0   \n",
       "319861           1                0           0           0   \n",
       "285487           1                0           1           0   \n",
       "\n",
       "              OCCUPATION_TYPE  CNT_FAM_MEMBERS  MONTHS_BALANCE STATUS  \n",
       "775906                    NaN              2.0              -7      C  \n",
       "162032            Sales staff              3.0             -44      X  \n",
       "102183  High skill tech staff              1.0               0      C  \n",
       "319861               Laborers              1.0              -5      0  \n",
       "285487                    NaN              4.0              -8      C  "
      ]
     },
     "execution_count": 6,
     "metadata": {},
     "output_type": "execute_result"
    }
   ],
   "source": [
    "df.sample(5)"
   ]
  },
  {
   "cell_type": "code",
   "execution_count": 7,
   "id": "4fd5fa87",
   "metadata": {},
   "outputs": [
    {
     "data": {
      "text/plain": [
       "(777715, 20)"
      ]
     },
     "execution_count": 7,
     "metadata": {},
     "output_type": "execute_result"
    }
   ],
   "source": [
    "df.shape"
   ]
  },
  {
   "cell_type": "markdown",
   "id": "a5aab76b",
   "metadata": {},
   "source": [
    "#### Dataset has 777715 rows and 20 columns"
   ]
  },
  {
   "cell_type": "code",
   "execution_count": 8,
   "id": "299fa26c",
   "metadata": {},
   "outputs": [
    {
     "name": "stdout",
     "output_type": "stream",
     "text": [
      "<class 'pandas.core.frame.DataFrame'>\n",
      "Int64Index: 777715 entries, 0 to 777714\n",
      "Data columns (total 20 columns):\n",
      " #   Column               Non-Null Count   Dtype  \n",
      "---  ------               --------------   -----  \n",
      " 0   ID                   777715 non-null  int64  \n",
      " 1   CODE_GENDER          777715 non-null  object \n",
      " 2   FLAG_OWN_CAR         777715 non-null  object \n",
      " 3   FLAG_OWN_REALTY      777715 non-null  object \n",
      " 4   CNT_CHILDREN         777715 non-null  int64  \n",
      " 5   AMT_INCOME_TOTAL     777715 non-null  float64\n",
      " 6   NAME_INCOME_TYPE     777715 non-null  object \n",
      " 7   NAME_EDUCATION_TYPE  777715 non-null  object \n",
      " 8   NAME_FAMILY_STATUS   777715 non-null  object \n",
      " 9   NAME_HOUSING_TYPE    777715 non-null  object \n",
      " 10  DAYS_BIRTH           777715 non-null  int64  \n",
      " 11  DAYS_EMPLOYED        777715 non-null  int64  \n",
      " 12  FLAG_MOBIL           777715 non-null  int64  \n",
      " 13  FLAG_WORK_PHONE      777715 non-null  int64  \n",
      " 14  FLAG_PHONE           777715 non-null  int64  \n",
      " 15  FLAG_EMAIL           777715 non-null  int64  \n",
      " 16  OCCUPATION_TYPE      537667 non-null  object \n",
      " 17  CNT_FAM_MEMBERS      777715 non-null  float64\n",
      " 18  MONTHS_BALANCE       777715 non-null  int64  \n",
      " 19  STATUS               777715 non-null  object \n",
      "dtypes: float64(2), int64(9), object(9)\n",
      "memory usage: 124.6+ MB\n"
     ]
    }
   ],
   "source": [
    "df.info()"
   ]
  },
  {
   "cell_type": "code",
   "execution_count": 9,
   "id": "1fabecb5",
   "metadata": {},
   "outputs": [
    {
     "data": {
      "text/plain": [
       "Index(['ID', 'CODE_GENDER', 'FLAG_OWN_CAR', 'FLAG_OWN_REALTY', 'CNT_CHILDREN',\n",
       "       'AMT_INCOME_TOTAL', 'NAME_INCOME_TYPE', 'NAME_EDUCATION_TYPE',\n",
       "       'NAME_FAMILY_STATUS', 'NAME_HOUSING_TYPE', 'DAYS_BIRTH',\n",
       "       'DAYS_EMPLOYED', 'FLAG_MOBIL', 'FLAG_WORK_PHONE', 'FLAG_PHONE',\n",
       "       'FLAG_EMAIL', 'OCCUPATION_TYPE', 'CNT_FAM_MEMBERS', 'MONTHS_BALANCE',\n",
       "       'STATUS'],\n",
       "      dtype='object')"
      ]
     },
     "execution_count": 9,
     "metadata": {},
     "output_type": "execute_result"
    }
   ],
   "source": [
    "df.columns"
   ]
  },
  {
   "cell_type": "markdown",
   "id": "8ba782d7",
   "metadata": {},
   "source": [
    "#### Droping unwanted columns"
   ]
  },
  {
   "cell_type": "code",
   "execution_count": 10,
   "id": "474e9fad",
   "metadata": {},
   "outputs": [],
   "source": [
    "df.drop(['ID','FLAG_OWN_REALTY','FLAG_MOBIL', 'FLAG_WORK_PHONE', 'FLAG_PHONE','FLAG_EMAIL', 'MONTHS_BALANCE'], axis = 1, inplace = True)"
   ]
  },
  {
   "cell_type": "code",
   "execution_count": 11,
   "id": "7442db98",
   "metadata": {},
   "outputs": [
    {
     "data": {
      "text/plain": [
       "(777715, 13)"
      ]
     },
     "execution_count": 11,
     "metadata": {},
     "output_type": "execute_result"
    }
   ],
   "source": [
    "df.shape \n",
    "\n",
    "## After droping Columns now this dataset has 777715 Rows and 13 columns "
   ]
  },
  {
   "cell_type": "code",
   "execution_count": 12,
   "id": "f17d9b7f",
   "metadata": {},
   "outputs": [
    {
     "data": {
      "text/plain": [
       "Index(['CODE_GENDER', 'FLAG_OWN_CAR', 'CNT_CHILDREN', 'AMT_INCOME_TOTAL',\n",
       "       'NAME_INCOME_TYPE', 'NAME_EDUCATION_TYPE', 'NAME_FAMILY_STATUS',\n",
       "       'NAME_HOUSING_TYPE', 'DAYS_BIRTH', 'DAYS_EMPLOYED', 'OCCUPATION_TYPE',\n",
       "       'CNT_FAM_MEMBERS', 'STATUS'],\n",
       "      dtype='object')"
      ]
     },
     "execution_count": 12,
     "metadata": {},
     "output_type": "execute_result"
    }
   ],
   "source": [
    "df.columns"
   ]
  },
  {
   "cell_type": "markdown",
   "id": "e4787723",
   "metadata": {},
   "source": [
    "#### Renaming Columns for better understanding "
   ]
  },
  {
   "cell_type": "code",
   "execution_count": 13,
   "id": "98a42022",
   "metadata": {},
   "outputs": [],
   "source": [
    "df.rename({'CODE_GENDER':'Gender', 'FLAG_OWN_CAR':'Own Car','CNT_CHILDREN':'No of Children','AMT_INCOME_TOTAL':'Annual Income',\n",
    "          'NAME_INCOME_TYPE':'Income category','NAME_EDUCATION_TYPE':'Education level','NAME_FAMILY_STATUS':'Marital status',\n",
    "          'NAME_HOUSING_TYPE':'Way of living','DAYS_BIRTH':'Age','DAYS_EMPLOYED':'years into job','OCCUPATION_TYPE':'Occupation type','CNT_FAM_MEMBERS':'Count of family members'},\n",
    "         axis = 1, inplace = True)"
   ]
  },
  {
   "cell_type": "code",
   "execution_count": 14,
   "id": "8099bc07",
   "metadata": {},
   "outputs": [
    {
     "data": {
      "text/html": [
       "<div>\n",
       "<style scoped>\n",
       "    .dataframe tbody tr th:only-of-type {\n",
       "        vertical-align: middle;\n",
       "    }\n",
       "\n",
       "    .dataframe tbody tr th {\n",
       "        vertical-align: top;\n",
       "    }\n",
       "\n",
       "    .dataframe thead th {\n",
       "        text-align: right;\n",
       "    }\n",
       "</style>\n",
       "<table border=\"1\" class=\"dataframe\">\n",
       "  <thead>\n",
       "    <tr style=\"text-align: right;\">\n",
       "      <th></th>\n",
       "      <th>Gender</th>\n",
       "      <th>Own Car</th>\n",
       "      <th>No of Children</th>\n",
       "      <th>Annual Income</th>\n",
       "      <th>Income category</th>\n",
       "      <th>Education level</th>\n",
       "      <th>Marital status</th>\n",
       "      <th>Way of living</th>\n",
       "      <th>Age</th>\n",
       "      <th>years into job</th>\n",
       "      <th>Occupation type</th>\n",
       "      <th>Count of family members</th>\n",
       "      <th>STATUS</th>\n",
       "    </tr>\n",
       "  </thead>\n",
       "  <tbody>\n",
       "    <tr>\n",
       "      <th>171875</th>\n",
       "      <td>F</td>\n",
       "      <td>Y</td>\n",
       "      <td>0</td>\n",
       "      <td>162000.0</td>\n",
       "      <td>Commercial associate</td>\n",
       "      <td>Secondary / secondary special</td>\n",
       "      <td>Civil marriage</td>\n",
       "      <td>House / apartment</td>\n",
       "      <td>-18251</td>\n",
       "      <td>-3019</td>\n",
       "      <td>Managers</td>\n",
       "      <td>2.0</td>\n",
       "      <td>X</td>\n",
       "    </tr>\n",
       "    <tr>\n",
       "      <th>260450</th>\n",
       "      <td>M</td>\n",
       "      <td>N</td>\n",
       "      <td>0</td>\n",
       "      <td>225000.0</td>\n",
       "      <td>Working</td>\n",
       "      <td>Secondary / secondary special</td>\n",
       "      <td>Civil marriage</td>\n",
       "      <td>House / apartment</td>\n",
       "      <td>-10570</td>\n",
       "      <td>-1175</td>\n",
       "      <td>Managers</td>\n",
       "      <td>2.0</td>\n",
       "      <td>C</td>\n",
       "    </tr>\n",
       "    <tr>\n",
       "      <th>746468</th>\n",
       "      <td>M</td>\n",
       "      <td>Y</td>\n",
       "      <td>2</td>\n",
       "      <td>225000.0</td>\n",
       "      <td>Commercial associate</td>\n",
       "      <td>Secondary / secondary special</td>\n",
       "      <td>Married</td>\n",
       "      <td>House / apartment</td>\n",
       "      <td>-14636</td>\n",
       "      <td>-3850</td>\n",
       "      <td>NaN</td>\n",
       "      <td>4.0</td>\n",
       "      <td>0</td>\n",
       "    </tr>\n",
       "    <tr>\n",
       "      <th>577199</th>\n",
       "      <td>M</td>\n",
       "      <td>N</td>\n",
       "      <td>0</td>\n",
       "      <td>171000.0</td>\n",
       "      <td>Commercial associate</td>\n",
       "      <td>Secondary / secondary special</td>\n",
       "      <td>Married</td>\n",
       "      <td>House / apartment</td>\n",
       "      <td>-18162</td>\n",
       "      <td>-4849</td>\n",
       "      <td>Laborers</td>\n",
       "      <td>2.0</td>\n",
       "      <td>X</td>\n",
       "    </tr>\n",
       "    <tr>\n",
       "      <th>43246</th>\n",
       "      <td>F</td>\n",
       "      <td>N</td>\n",
       "      <td>0</td>\n",
       "      <td>270000.0</td>\n",
       "      <td>Working</td>\n",
       "      <td>Secondary / secondary special</td>\n",
       "      <td>Married</td>\n",
       "      <td>House / apartment</td>\n",
       "      <td>-20066</td>\n",
       "      <td>-3988</td>\n",
       "      <td>Private service staff</td>\n",
       "      <td>2.0</td>\n",
       "      <td>0</td>\n",
       "    </tr>\n",
       "  </tbody>\n",
       "</table>\n",
       "</div>"
      ],
      "text/plain": [
       "       Gender Own Car  No of Children  Annual Income       Income category  \\\n",
       "171875      F       Y               0       162000.0  Commercial associate   \n",
       "260450      M       N               0       225000.0               Working   \n",
       "746468      M       Y               2       225000.0  Commercial associate   \n",
       "577199      M       N               0       171000.0  Commercial associate   \n",
       "43246       F       N               0       270000.0               Working   \n",
       "\n",
       "                      Education level  Marital status      Way of living  \\\n",
       "171875  Secondary / secondary special  Civil marriage  House / apartment   \n",
       "260450  Secondary / secondary special  Civil marriage  House / apartment   \n",
       "746468  Secondary / secondary special         Married  House / apartment   \n",
       "577199  Secondary / secondary special         Married  House / apartment   \n",
       "43246   Secondary / secondary special         Married  House / apartment   \n",
       "\n",
       "          Age  years into job        Occupation type  Count of family members  \\\n",
       "171875 -18251           -3019               Managers                      2.0   \n",
       "260450 -10570           -1175               Managers                      2.0   \n",
       "746468 -14636           -3850                    NaN                      4.0   \n",
       "577199 -18162           -4849               Laborers                      2.0   \n",
       "43246  -20066           -3988  Private service staff                      2.0   \n",
       "\n",
       "       STATUS  \n",
       "171875      X  \n",
       "260450      C  \n",
       "746468      0  \n",
       "577199      X  \n",
       "43246       0  "
      ]
     },
     "execution_count": 14,
     "metadata": {},
     "output_type": "execute_result"
    }
   ],
   "source": [
    "df.sample(5)"
   ]
  },
  {
   "cell_type": "code",
   "execution_count": 15,
   "id": "ea017f69",
   "metadata": {},
   "outputs": [
    {
     "data": {
      "text/plain": [
       "Index(['Gender', 'Own Car', 'No of Children', 'Annual Income',\n",
       "       'Income category', 'Education level', 'Marital status', 'Way of living',\n",
       "       'Age', 'years into job', 'Occupation type', 'Count of family members',\n",
       "       'STATUS'],\n",
       "      dtype='object')"
      ]
     },
     "execution_count": 15,
     "metadata": {},
     "output_type": "execute_result"
    }
   ],
   "source": [
    "df.columns"
   ]
  },
  {
   "cell_type": "code",
   "execution_count": 16,
   "id": "55de1191",
   "metadata": {},
   "outputs": [
    {
     "data": {
      "text/plain": [
       "(777715, 13)"
      ]
     },
     "execution_count": 16,
     "metadata": {},
     "output_type": "execute_result"
    }
   ],
   "source": [
    "df.shape"
   ]
  },
  {
   "cell_type": "markdown",
   "id": "f99b2b0e",
   "metadata": {},
   "source": [
    "#### Checking Duplicates in dataset"
   ]
  },
  {
   "cell_type": "code",
   "execution_count": 17,
   "id": "4cab4af0",
   "metadata": {},
   "outputs": [
    {
     "data": {
      "text/plain": [
       "751843"
      ]
     },
     "execution_count": 17,
     "metadata": {},
     "output_type": "execute_result"
    }
   ],
   "source": [
    "df.duplicated().sum()\n",
    "\n",
    "### This dataset has 751843 duplicate rows"
   ]
  },
  {
   "cell_type": "markdown",
   "id": "e2640cd1",
   "metadata": {},
   "source": [
    "### Droping those Duplicate rows "
   ]
  },
  {
   "cell_type": "code",
   "execution_count": 18,
   "id": "49c8d9bc",
   "metadata": {},
   "outputs": [],
   "source": [
    "df.drop_duplicates(inplace = True)"
   ]
  },
  {
   "cell_type": "markdown",
   "id": "15899649",
   "metadata": {},
   "source": [
    "#### Checking shape of dataset after romoval of duplicates "
   ]
  },
  {
   "cell_type": "code",
   "execution_count": 19,
   "id": "f8e95e97",
   "metadata": {},
   "outputs": [
    {
     "data": {
      "text/plain": [
       "(25872, 13)"
      ]
     },
     "execution_count": 19,
     "metadata": {},
     "output_type": "execute_result"
    }
   ],
   "source": [
    "df.shape"
   ]
  },
  {
   "cell_type": "markdown",
   "id": "0f1fa426",
   "metadata": {},
   "source": [
    "#### Checing missing value percentage for every column "
   ]
  },
  {
   "cell_type": "code",
   "execution_count": 20,
   "id": "db9f2c7f",
   "metadata": {},
   "outputs": [
    {
     "data": {
      "text/plain": [
       "Gender                      0.000000\n",
       "Own Car                     0.000000\n",
       "No of Children              0.000000\n",
       "Annual Income               0.000000\n",
       "Income category             0.000000\n",
       "Education level             0.000000\n",
       "Marital status              0.000000\n",
       "Way of living               0.000000\n",
       "Age                         0.000000\n",
       "years into job              0.000000\n",
       "Occupation type            30.523346\n",
       "Count of family members     0.000000\n",
       "STATUS                      0.000000\n",
       "dtype: float64"
      ]
     },
     "execution_count": 20,
     "metadata": {},
     "output_type": "execute_result"
    }
   ],
   "source": [
    "100*df.isna().sum()/len(df)\n",
    "\n",
    "### Occupation type has 30.52% null values rest columns do not contain any null values"
   ]
  },
  {
   "cell_type": "markdown",
   "id": "f246fabc",
   "metadata": {},
   "source": [
    "#### Filtering null values of Occupation type column into a new dataframe "
   ]
  },
  {
   "cell_type": "code",
   "execution_count": 21,
   "id": "f0623b76",
   "metadata": {},
   "outputs": [
    {
     "data": {
      "text/html": [
       "<div>\n",
       "<style scoped>\n",
       "    .dataframe tbody tr th:only-of-type {\n",
       "        vertical-align: middle;\n",
       "    }\n",
       "\n",
       "    .dataframe tbody tr th {\n",
       "        vertical-align: top;\n",
       "    }\n",
       "\n",
       "    .dataframe thead th {\n",
       "        text-align: right;\n",
       "    }\n",
       "</style>\n",
       "<table border=\"1\" class=\"dataframe\">\n",
       "  <thead>\n",
       "    <tr style=\"text-align: right;\">\n",
       "      <th></th>\n",
       "      <th>Gender</th>\n",
       "      <th>Own Car</th>\n",
       "      <th>No of Children</th>\n",
       "      <th>Annual Income</th>\n",
       "      <th>Income category</th>\n",
       "      <th>Education level</th>\n",
       "      <th>Marital status</th>\n",
       "      <th>Way of living</th>\n",
       "      <th>Age</th>\n",
       "      <th>years into job</th>\n",
       "      <th>Occupation type</th>\n",
       "      <th>Count of family members</th>\n",
       "      <th>STATUS</th>\n",
       "    </tr>\n",
       "  </thead>\n",
       "  <tbody>\n",
       "    <tr>\n",
       "      <th>361631</th>\n",
       "      <td>M</td>\n",
       "      <td>Y</td>\n",
       "      <td>0</td>\n",
       "      <td>360000.0</td>\n",
       "      <td>Pensioner</td>\n",
       "      <td>Secondary / secondary special</td>\n",
       "      <td>Married</td>\n",
       "      <td>House / apartment</td>\n",
       "      <td>-20859</td>\n",
       "      <td>365243</td>\n",
       "      <td>NaN</td>\n",
       "      <td>2.0</td>\n",
       "      <td>0</td>\n",
       "    </tr>\n",
       "    <tr>\n",
       "      <th>220641</th>\n",
       "      <td>F</td>\n",
       "      <td>Y</td>\n",
       "      <td>0</td>\n",
       "      <td>157500.0</td>\n",
       "      <td>Working</td>\n",
       "      <td>Secondary / secondary special</td>\n",
       "      <td>Single / not married</td>\n",
       "      <td>House / apartment</td>\n",
       "      <td>-19057</td>\n",
       "      <td>-3913</td>\n",
       "      <td>NaN</td>\n",
       "      <td>1.0</td>\n",
       "      <td>0</td>\n",
       "    </tr>\n",
       "    <tr>\n",
       "      <th>264686</th>\n",
       "      <td>F</td>\n",
       "      <td>N</td>\n",
       "      <td>0</td>\n",
       "      <td>45000.0</td>\n",
       "      <td>Pensioner</td>\n",
       "      <td>Lower secondary</td>\n",
       "      <td>Married</td>\n",
       "      <td>House / apartment</td>\n",
       "      <td>-22250</td>\n",
       "      <td>365243</td>\n",
       "      <td>NaN</td>\n",
       "      <td>2.0</td>\n",
       "      <td>0</td>\n",
       "    </tr>\n",
       "    <tr>\n",
       "      <th>317891</th>\n",
       "      <td>F</td>\n",
       "      <td>N</td>\n",
       "      <td>0</td>\n",
       "      <td>193500.0</td>\n",
       "      <td>Pensioner</td>\n",
       "      <td>Incomplete higher</td>\n",
       "      <td>Widow</td>\n",
       "      <td>House / apartment</td>\n",
       "      <td>-24295</td>\n",
       "      <td>365243</td>\n",
       "      <td>NaN</td>\n",
       "      <td>1.0</td>\n",
       "      <td>0</td>\n",
       "    </tr>\n",
       "    <tr>\n",
       "      <th>207374</th>\n",
       "      <td>F</td>\n",
       "      <td>Y</td>\n",
       "      <td>1</td>\n",
       "      <td>157500.0</td>\n",
       "      <td>Commercial associate</td>\n",
       "      <td>Secondary / secondary special</td>\n",
       "      <td>Civil marriage</td>\n",
       "      <td>House / apartment</td>\n",
       "      <td>-10433</td>\n",
       "      <td>-2959</td>\n",
       "      <td>NaN</td>\n",
       "      <td>3.0</td>\n",
       "      <td>X</td>\n",
       "    </tr>\n",
       "  </tbody>\n",
       "</table>\n",
       "</div>"
      ],
      "text/plain": [
       "       Gender Own Car  No of Children  Annual Income       Income category  \\\n",
       "361631      M       Y               0       360000.0             Pensioner   \n",
       "220641      F       Y               0       157500.0               Working   \n",
       "264686      F       N               0        45000.0             Pensioner   \n",
       "317891      F       N               0       193500.0             Pensioner   \n",
       "207374      F       Y               1       157500.0  Commercial associate   \n",
       "\n",
       "                      Education level        Marital status  \\\n",
       "361631  Secondary / secondary special               Married   \n",
       "220641  Secondary / secondary special  Single / not married   \n",
       "264686                Lower secondary               Married   \n",
       "317891              Incomplete higher                 Widow   \n",
       "207374  Secondary / secondary special        Civil marriage   \n",
       "\n",
       "            Way of living    Age  years into job Occupation type  \\\n",
       "361631  House / apartment -20859          365243             NaN   \n",
       "220641  House / apartment -19057           -3913             NaN   \n",
       "264686  House / apartment -22250          365243             NaN   \n",
       "317891  House / apartment -24295          365243             NaN   \n",
       "207374  House / apartment -10433           -2959             NaN   \n",
       "\n",
       "        Count of family members STATUS  \n",
       "361631                      2.0      0  \n",
       "220641                      1.0      0  \n",
       "264686                      2.0      0  \n",
       "317891                      1.0      0  \n",
       "207374                      3.0      X  "
      ]
     },
     "execution_count": 21,
     "metadata": {},
     "output_type": "execute_result"
    }
   ],
   "source": [
    "dummy = df[df['Occupation type'].isna()]\n",
    "dummy.sample(5)"
   ]
  },
  {
   "cell_type": "markdown",
   "id": "d0d30e3a",
   "metadata": {},
   "source": [
    "#### in above dataset it is clearly visible that there are Null values for diffrent diffrent Income category group so we can not directly fill these Null values with mode , and from below code we can see that there are null values in Occupation type column for every category present in Income category column"
   ]
  },
  {
   "cell_type": "code",
   "execution_count": 22,
   "id": "8f6ae423",
   "metadata": {},
   "outputs": [
    {
     "data": {
      "text/plain": [
       "array(['Working', 'Pensioner', 'State servant', 'Commercial associate',\n",
       "       'Student'], dtype=object)"
      ]
     },
     "execution_count": 22,
     "metadata": {},
     "output_type": "execute_result"
    }
   ],
   "source": [
    "dummy['Income category'].unique()"
   ]
  },
  {
   "cell_type": "markdown",
   "id": "5d4917f8",
   "metadata": {},
   "source": [
    "#### Filling Null values in Occupation type with not working for those rows where income type is either students or pensioners "
   ]
  },
  {
   "cell_type": "code",
   "execution_count": 23,
   "id": "d2d695e0",
   "metadata": {},
   "outputs": [],
   "source": [
    "df.loc[(df['Income category'] == 'Student') | (df['Income category'] == 'Pensioner'), 'Occupation type'] = 'Not working'"
   ]
  },
  {
   "cell_type": "markdown",
   "id": "615cd05b",
   "metadata": {},
   "source": [
    "#### after imputing values we can see that Null value percentage has dropped to 13.34% from 30.52%"
   ]
  },
  {
   "cell_type": "code",
   "execution_count": 24,
   "id": "bc0f6117",
   "metadata": {},
   "outputs": [
    {
     "data": {
      "text/plain": [
       "Gender                      0.00000\n",
       "Own Car                     0.00000\n",
       "No of Children              0.00000\n",
       "Annual Income               0.00000\n",
       "Income category             0.00000\n",
       "Education level             0.00000\n",
       "Marital status              0.00000\n",
       "Way of living               0.00000\n",
       "Age                         0.00000\n",
       "years into job              0.00000\n",
       "Occupation type            13.34261\n",
       "Count of family members     0.00000\n",
       "STATUS                      0.00000\n",
       "dtype: float64"
      ]
     },
     "execution_count": 24,
     "metadata": {},
     "output_type": "execute_result"
    }
   ],
   "source": [
    "100*df.isna().sum()/len(df)"
   ]
  },
  {
   "cell_type": "markdown",
   "id": "bee9d052",
   "metadata": {},
   "source": [
    "#### Dropping Null values "
   ]
  },
  {
   "cell_type": "code",
   "execution_count": 25,
   "id": "e8382709",
   "metadata": {},
   "outputs": [
    {
     "data": {
      "text/plain": [
       "Gender                     0.0\n",
       "Own Car                    0.0\n",
       "No of Children             0.0\n",
       "Annual Income              0.0\n",
       "Income category            0.0\n",
       "Education level            0.0\n",
       "Marital status             0.0\n",
       "Way of living              0.0\n",
       "Age                        0.0\n",
       "years into job             0.0\n",
       "Occupation type            0.0\n",
       "Count of family members    0.0\n",
       "STATUS                     0.0\n",
       "dtype: float64"
      ]
     },
     "execution_count": 25,
     "metadata": {},
     "output_type": "execute_result"
    }
   ],
   "source": [
    "df.dropna(inplace = True)\n",
    "100*df.isna().sum()/len(df)"
   ]
  },
  {
   "cell_type": "code",
   "execution_count": 26,
   "id": "5d214ff1",
   "metadata": {},
   "outputs": [
    {
     "data": {
      "text/plain": [
       "array(['Married', 'Single / not married', 'Separated', 'Civil marriage',\n",
       "       'Widow'], dtype=object)"
      ]
     },
     "execution_count": 26,
     "metadata": {},
     "output_type": "execute_result"
    }
   ],
   "source": [
    "df['Marital status'].unique()"
   ]
  },
  {
   "cell_type": "markdown",
   "id": "1b709b22",
   "metadata": {},
   "source": [
    "#### converting diffrent status present in Marital Status to only 2 status single or Married"
   ]
  },
  {
   "cell_type": "code",
   "execution_count": 27,
   "id": "65c52afa",
   "metadata": {},
   "outputs": [],
   "source": [
    "def fun(x):\n",
    "    if x == 'Married' or x == 'Civil marriage':\n",
    "        return 'Married'\n",
    "    else:\n",
    "        return 'Single'\n",
    "df['Marital status'] = df['Marital status'].apply(fun)"
   ]
  },
  {
   "cell_type": "code",
   "execution_count": 28,
   "id": "92e5937e",
   "metadata": {},
   "outputs": [
    {
     "data": {
      "text/plain": [
       "array(['Married', 'Single'], dtype=object)"
      ]
     },
     "execution_count": 28,
     "metadata": {},
     "output_type": "execute_result"
    }
   ],
   "source": [
    "df['Marital status'].unique()"
   ]
  },
  {
   "cell_type": "markdown",
   "id": "92482940",
   "metadata": {},
   "source": [
    "#### checking unique values in Age column here age are in days and 0 means today -1 means one day before and -365 means one year ago"
   ]
  },
  {
   "cell_type": "code",
   "execution_count": 29,
   "id": "ffa2ad19",
   "metadata": {},
   "outputs": [
    {
     "data": {
      "text/plain": [
       "array([-21474, -19110, -22464, ..., -13080, -21590,  -9188], dtype=int64)"
      ]
     },
     "execution_count": 29,
     "metadata": {},
     "output_type": "execute_result"
    }
   ],
   "source": [
    "df['Age'].unique()"
   ]
  },
  {
   "cell_type": "markdown",
   "id": "efb82f3d",
   "metadata": {},
   "source": [
    "#### Converting values in age columns in Year and changing datatype to integer for better understanding "
   ]
  },
  {
   "cell_type": "code",
   "execution_count": 30,
   "id": "751c03b3",
   "metadata": {},
   "outputs": [],
   "source": [
    "df['Age'] = (-1*df['Age'])//365"
   ]
  },
  {
   "cell_type": "code",
   "execution_count": 31,
   "id": "edea8804",
   "metadata": {},
   "outputs": [
    {
     "data": {
      "text/plain": [
       "array([58, 52, 61, 46, 48, 29, 27, 34, 32, 56, 43, 44, 45, 55, 42, 37, 57,\n",
       "       51, 54, 39, 28, 30, 24, 20, 38, 40, 33, 36, 35, 41, 59, 26, 50, 53,\n",
       "       62, 60, 63, 25, 22, 23, 64, 47, 31, 49, 65, 21, 66, 67, 68],\n",
       "      dtype=int64)"
      ]
     },
     "execution_count": 31,
     "metadata": {},
     "output_type": "execute_result"
    }
   ],
   "source": [
    "df['Age'].unique()"
   ]
  },
  {
   "cell_type": "markdown",
   "id": "9ce9b91d",
   "metadata": {},
   "source": [
    "#### checking unique values in years into job column here values are in days and 0 means today -1 means one day before and -365 means one year ago and +365 means unemployed since 1 year"
   ]
  },
  {
   "cell_type": "code",
   "execution_count": 32,
   "id": "03b1aec3",
   "metadata": {},
   "outputs": [
    {
     "data": {
      "text/plain": [
       "array([ -1134,  -3051, 365243, ...,  -1394,  -8161,   -606], dtype=int64)"
      ]
     },
     "execution_count": 32,
     "metadata": {},
     "output_type": "execute_result"
    }
   ],
   "source": [
    "df['years into job'].unique()"
   ]
  },
  {
   "cell_type": "markdown",
   "id": "2bafd21e",
   "metadata": {},
   "source": [
    "#### Converting values in years into job columns in Year and changing datatype to integer for better understanding "
   ]
  },
  {
   "cell_type": "code",
   "execution_count": 33,
   "id": "0dc7a5db",
   "metadata": {},
   "outputs": [],
   "source": [
    "df['years into job'] = (-1*df['years into job'])//365"
   ]
  },
  {
   "cell_type": "code",
   "execution_count": 34,
   "id": "260fc1a2",
   "metadata": {},
   "outputs": [
    {
     "data": {
      "text/plain": [
       "array([    3,     8, -1001,     2,     4,     5,    12,    19,    14,\n",
       "          13,     6,    17,    29,     7,     1,    15,    11,     0,\n",
       "          10,    23,    24,    20,     9,    26,    18,    21,    22,\n",
       "          16,    28,    27,    38,    32,    31,    36,    37,    30,\n",
       "          39,    34,    25,    33,    40,    35,    43,    42],\n",
       "      dtype=int64)"
      ]
     },
     "execution_count": 34,
     "metadata": {},
     "output_type": "execute_result"
    }
   ],
   "source": [
    "df['years into job'].unique()"
   ]
  },
  {
   "cell_type": "code",
   "execution_count": 35,
   "id": "477493b2",
   "metadata": {},
   "outputs": [],
   "source": [
    "df.loc[df['years into job'] < 0, 'years into job'] = 0"
   ]
  },
  {
   "cell_type": "markdown",
   "id": "bbedf440",
   "metadata": {},
   "source": [
    "#### Explaining Status column "
   ]
  },
  {
   "cell_type": "code",
   "execution_count": 36,
   "id": "490cfb69",
   "metadata": {},
   "outputs": [
    {
     "data": {
      "text/plain": [
       "array(['C', 'X', '0', '1', '5', '4', '3', '2'], dtype=object)"
      ]
     },
     "execution_count": 36,
     "metadata": {},
     "output_type": "execute_result"
    }
   ],
   "source": [
    "df['STATUS'].unique()\n",
    "\n",
    "# 0: 1-29 days past  ( This category indicates that the payment is overdue by 1 to 29 days.) \n",
    "# 1: 30-59 days past due (This category indicates that the payment is overdue by 30 to 59 days.)\n",
    "# 2: 60-89 days overdue (This category indicates that the payment is overdue by 60 to 89 days.)\n",
    "# 3: 90-119 days overdue (This category indicates that the payment is overdue by 90 to 119 days.)\n",
    "# 4: 120-149 days overdue (This category indicates that the payment is overdue by 120 to 149 days.)\n",
    "# 5: Overdue or bad debts, write-offs for more than 150 days \n",
    "# C: paid off that month \n",
    "# X: No loan "
   ]
  },
  {
   "cell_type": "markdown",
   "id": "0ce0206a",
   "metadata": {},
   "source": [
    "#### we have classified customers into good customer and bad customer (1 for good and 0 for bad)"
   ]
  },
  {
   "cell_type": "code",
   "execution_count": 37,
   "id": "8c81c8d2",
   "metadata": {},
   "outputs": [],
   "source": [
    "df['STATUS'] = np.where((df['STATUS'] == '1')|(df['STATUS'] == '2') | (df['STATUS'] == '3' )| (df['STATUS'] == '4' )| (df['STATUS'] == '5'), 0, 1)"
   ]
  },
  {
   "cell_type": "code",
   "execution_count": 38,
   "id": "5dca03b5",
   "metadata": {},
   "outputs": [
    {
     "data": {
      "text/plain": [
       "array([1, 0])"
      ]
     },
     "execution_count": 38,
     "metadata": {},
     "output_type": "execute_result"
    }
   ],
   "source": [
    "df['STATUS'].unique()"
   ]
  },
  {
   "cell_type": "code",
   "execution_count": 39,
   "id": "da1da950",
   "metadata": {},
   "outputs": [],
   "source": [
    "df['Count of family members'] = np.where((df['Count of family members'] < 4), 1,0)"
   ]
  },
  {
   "cell_type": "code",
   "execution_count": 40,
   "id": "73257315",
   "metadata": {},
   "outputs": [
    {
     "data": {
      "image/png": "[encoded data removed]",
      "text/plain": [
       "<Figure size 720x720 with 3 Axes>"
      ]
     },
     "metadata": {
      "needs_background": "light"
     },
     "output_type": "display_data"
    }
   ],
   "source": [
    "gender_info = df['Gender'].value_counts().reset_index()\n",
    "marital_status = df['Marital status'].value_counts().reset_index()\n",
    "\n",
    "plt.figure(figsize = (10,10))\n",
    "plt.subplot(2,2,1)\n",
    "explode = [0, 0.1]\n",
    "plt.pie(gender_info['Gender'], labels=gender_info['index'],colors=['pink','green'],explode=explode, autopct='%.0f%%');\n",
    "\n",
    "plt.subplot(2,2,2)\n",
    "explode = [0, 0.1]\n",
    "plt.pie(marital_status['Marital status'], labels=marital_status['index'],colors=['green','red'],explode=explode, autopct='%.0f%%');\n",
    "\n",
    "\n",
    "plt.subplot(2,1,2)\n",
    "sns.countplot(df['Gender'], hue = df['Marital status']);\n",
    "plt.suptitle('Count of Male Vs Female and Married Vs Single');"
   ]
  },
  {
   "cell_type": "code",
   "execution_count": 41,
   "id": "0382a870",
   "metadata": {},
   "outputs": [
    {
     "data": {
      "image/png": "[encoded data removed]",
      "text/plain": [
       "<Figure size 432x288 with 1 Axes>"
      ]
     },
     "metadata": {},
     "output_type": "display_data"
    }
   ],
   "source": [
    "own_car = df['Own Car'].value_counts().reset_index()\n",
    "\n",
    "explode = [0, 0.1]\n",
    "plt.pie(own_car['Own Car'], labels=own_car['index'],colors=['red','yellow'],explode=explode, autopct='%.0f%%');\n",
    "plt.title('Distribution of Car owners');"
   ]
  },
  {
   "cell_type": "markdown",
   "id": "8eb57286",
   "metadata": {},
   "source": [
    "#### Checking distribution of 'Age', 'Annual Income' and 'years into job' columns"
   ]
  },
  {
   "cell_type": "code",
   "execution_count": 42,
   "id": "d9bd9af8",
   "metadata": {},
   "outputs": [
    {
     "data": {
      "text/plain": [
       "<AxesSubplot:xlabel='years into job', ylabel='Density'>"
      ]
     },
     "execution_count": 42,
     "metadata": {},
     "output_type": "execute_result"
    },
    {
     "data": {
      "image/png": "[encoded data removed]",
      "text/plain": [
       "<Figure size 1080x360 with 3 Axes>"
      ]
     },
     "metadata": {
      "needs_background": "light"
     },
     "output_type": "display_data"
    }
   ],
   "source": [
    "plt.figure(figsize = (15,5))\n",
    "plt.subplot(1,3,1)\n",
    "sns.histplot(df['Age'])\n",
    "\n",
    "plt.subplot(1,3,2)\n",
    "sns.distplot(df['Annual Income'])\n",
    "\n",
    "plt.subplot(1,3,3)\n",
    "sns.distplot(df['years into job'])"
   ]
  },
  {
   "cell_type": "markdown",
   "id": "2905790b",
   "metadata": {},
   "source": [
    "#### In above Figures we can observe that Age is normally distributed but Annual Income and year into job are Right skewed so while building model we will convert values in these two columns into normally distributed values"
   ]
  },
  {
   "cell_type": "markdown",
   "id": "590c0ec4",
   "metadata": {},
   "source": [
    "#### Plotting Distribution of Good and Bad customers on basis of income category, education, way of life and Occupation type by ploting stacked bar chart "
   ]
  },
  {
   "cell_type": "code",
   "execution_count": 43,
   "id": "286069d0",
   "metadata": {},
   "outputs": [
    {
     "data": {
      "image/png": "[encoded data removed]",
      "text/plain": [
       "<Figure size 1440x1080 with 4 Axes>"
      ]
     },
     "metadata": {
      "needs_background": "light"
     },
     "output_type": "display_data"
    }
   ],
   "source": [
    "import matplotlib.pyplot as plt\n",
    "\n",
    "# Copy the relevant columns from the original dataframe\n",
    "education_status = df[['Education level','STATUS']].copy()\n",
    "education_status['new'] = education_status['STATUS']\n",
    "\n",
    "income_type = df[['Income category','STATUS']].copy()\n",
    "income_type['new'] = income_type['STATUS']\n",
    "\n",
    "lifestyle = df[['Way of living','STATUS']].copy()\n",
    "lifestyle['new'] = lifestyle['STATUS']\n",
    "\n",
    "occupation_type = df[['Occupation type','STATUS']].copy()\n",
    "occupation_type['new'] = occupation_type['STATUS']\n",
    "\n",
    "# Group the dataframe by 'Education level' and 'STATUS' and calculate the count of 'new'\n",
    "grouped_data = education_status.groupby(['Education level', 'STATUS'])['new'].count().unstack()\n",
    "\n",
    "# Group the dataframe by 'Income category' and 'STATUS' and calculate the count of 'new'\n",
    "income_type_data = income_type.groupby(['Income category', 'STATUS'])['new'].count().unstack()\n",
    "\n",
    "# Group the dataframe by 'Way of living' and 'STATUS' and calculate the count of 'new'\n",
    "lifestyle_data = lifestyle.groupby(['Way of living', 'STATUS'])['new'].count().unstack()\n",
    "\n",
    "# Group the dataframe by 'Occupation type' and 'STATUS' and calculate the count of 'new'\n",
    "occupation_type_data = occupation_type.groupby(['Occupation type', 'STATUS'])['new'].count().unstack()\n",
    "\n",
    "# Reverse the order of the columns\n",
    "grouped_data = grouped_data.iloc[:, ::-1]\n",
    "income_type_data = income_type_data.iloc[:, ::-1]\n",
    "lifestyle_data = lifestyle_data.iloc[:, ::-1]\n",
    "occupation_type_data = occupation_type_data.iloc[:, ::-1]\n",
    "\n",
    "# Set up the subplots\n",
    "fig = plt.figure(figsize=(20, 15))\n",
    "\n",
    "# Plot the stacked bar charts\n",
    "ax1 = fig.add_subplot(231)\n",
    "grouped_data.plot(kind='bar', stacked=True, ax=ax1)\n",
    "plt.xticks(fontsize = 14)\n",
    "plt.yticks(fontsize = 14)\n",
    "ax1.set_xlabel('Education level', fontsize = 14)\n",
    "ax1.set_ylabel('Count of Card consumers',fontsize = 14)\n",
    "ax1.set_title('Distribution based on Education',fontsize = 16)\n",
    "\n",
    "ax2 = fig.add_subplot(232)\n",
    "income_type_data.plot(kind='bar', stacked=True, ax=ax2)\n",
    "plt.xticks(fontsize = 14)\n",
    "plt.yticks(fontsize = 14)\n",
    "ax2.set_xlabel('Income category',fontsize = 14)\n",
    "ax2.set_ylabel('Count of Card consumers',fontsize = 14)\n",
    "ax2.set_title('Distribution based on Income category',fontsize = 15)\n",
    "\n",
    "ax3 = fig.add_subplot(233)\n",
    "lifestyle_data.plot(kind='bar', stacked=True, ax=ax3)\n",
    "plt.xticks(fontsize = 14)\n",
    "plt.yticks(fontsize = 14)\n",
    "ax3.set_xlabel('Way of living',fontsize = 14)\n",
    "ax3.set_ylabel('Count of Card consumers',fontsize = 14)\n",
    "ax3.set_title('Distribution based on Way of living',fontsize = 16)\n",
    "\n",
    "ax4 = fig.add_subplot(212)\n",
    "occupation_type_data.plot(kind='bar', stacked=True, ax=ax4)\n",
    "plt.xticks(fontsize = 14)\n",
    "plt.yticks(fontsize = 14)\n",
    "ax4.set_xlabel('Occupation type',fontsize = 14)\n",
    "ax4.set_ylabel('Count of Card consumers',fontsize = 14)\n",
    "ax4.set_title('Distribution based on Occupation type',fontsize = 16)\n",
    "\n",
    "# Adjust the layout\n",
    "plt.tight_layout()\n",
    "\n",
    "# Display the chart\n",
    "plt.show()\n"
   ]
  },
  {
   "cell_type": "markdown",
   "id": "87752092",
   "metadata": {},
   "source": [
    "### Q1. Is there any relation between gender and card holder's behaviour(whether consumer is good or bad)"
   ]
  },
  {
   "cell_type": "code",
   "execution_count": 44,
   "id": "c23e47ac",
   "metadata": {},
   "outputs": [
    {
     "name": "stdout",
     "output_type": "stream",
     "text": [
      "Chi-square test statistic: 3.4111254294616424\n",
      "\n",
      "p-value: 0.06475826698030353\n",
      "\n",
      "Degrees of freedom: 1\n",
      "\n",
      "Expected frequencies:\n",
      " [[ 1761.87002676 12665.12997324]\n",
      " [  976.12997324  7016.87002676]]\n",
      "\n",
      "Failed to reject Null Hypothesis H0\n"
     ]
    }
   ],
   "source": [
    "# Card holder's behaviour is dependent on card holder's gender (check between 2 predictor variable)\n",
    "# Using Chi-Square test\n",
    "\n",
    "from scipy.stats import chi2_contingency\n",
    "\n",
    "# Null hypothesis: There is no relationship between card holder's behaviour and card holder's gender.\n",
    "# Alternative hypothesis: There is a relationship between card holder's behaviour and card holder's gender.\n",
    "\n",
    "\n",
    "chi2, p , dof, expected = chi2_contingency(pd.crosstab(df['Gender'],df['STATUS']))\n",
    "\n",
    "print('Chi-square test statistic:', chi2)\n",
    "print()\n",
    "print('p-value:', p)\n",
    "print()\n",
    "print('Degrees of freedom:', dof)\n",
    "print()\n",
    "print('Expected frequencies:\\n', expected)\n",
    "print()\n",
    "\n",
    "alpha = 0.05\n",
    "if p < alpha:\n",
    "    print('we reject Null Hypothesis H0')\n",
    "else:\n",
    "    print('Failed to reject Null Hypothesis H0')"
   ]
  },
  {
   "cell_type": "markdown",
   "id": "38a0e35d",
   "metadata": {},
   "source": [
    "#### Ans1. Here it is evident from chi-square test that p_value is 0.0647 which is Greater than 0.05 so we can not reject null hypothesis hence we can state that Card holder's behaviour is independent of Gender"
   ]
  },
  {
   "cell_type": "markdown",
   "id": "048b23b0",
   "metadata": {},
   "source": [
    "#### Q2. Can we say that people having car are more likly to be a good consumer or there is no significant relation between having car                     and card holder's behaviour ?"
   ]
  },
  {
   "cell_type": "code",
   "execution_count": 45,
   "id": "9138bbc6",
   "metadata": {},
   "outputs": [
    {
     "name": "stdout",
     "output_type": "stream",
     "text": [
      "Probability of Card holder being Bad and Own a Car  0.1222\n",
      "Probability of Card holder being Good and Own a Car  0.8778\n",
      "\n",
      "Probability of Card holder being Bad and do not Own a Car  0.1221\n",
      "Probability of Card holder being Good and do not Own a Car  0.8779\n",
      "\n",
      "Chi-square test statistic: 0.0002304246807272965\n",
      "\n",
      "p-value: 0.9878887803596789\n",
      "\n",
      "Degrees of freedom: 1\n",
      "\n",
      "Expected frequencies:\n",
      " [[ 1719.85967886 12363.14032114]\n",
      " [ 1018.14032114  7318.85967886]]\n",
      "\n",
      "Failed to reject Null Hypothesis H0\n"
     ]
    }
   ],
   "source": [
    "Own_car = df.loc[(df['Own Car'] == 'Y')]\n",
    "Own_car_0 = Own_car[Own_car['STATUS'] == 0]\n",
    "Own_car_1 = Own_car[Own_car['STATUS'] == 1]\n",
    "\n",
    "print('Probability of Card holder being Bad and Own a Car ',round(len(Own_car_0)/len(Own_car),4))\n",
    "print('Probability of Card holder being Good and Own a Car ',round(len(Own_car_1)/len(Own_car),4))\n",
    "print()\n",
    "\n",
    "No_car = df.loc[(df['Own Car'] == 'N')]\n",
    "No_car_0 = No_car[No_car['STATUS'] == 0]\n",
    "No_car_1 = No_car[No_car['STATUS'] == 1]\n",
    "\n",
    "print('Probability of Card holder being Bad and do not Own a Car ',round(len(No_car_0)/len(No_car),4))\n",
    "print('Probability of Card holder being Good and do not Own a Car ',round(len(No_car_1)/len(No_car),4))\n",
    "print()\n",
    "\n",
    "# Card holder's behaviour is dependent on Owning a Car (check between 2 predictor variable)\n",
    "# Using Chi-Square test\n",
    "\n",
    "# Null hypothesis: There is no relationship between card holder's behaviour and Owning a Car.\n",
    "# Alternative hypothesis: There is a relationship between card holder's behaviour and Owning a Car.\n",
    "\n",
    "\n",
    "chi2, p , dof, expected = chi2_contingency(pd.crosstab(df['Own Car'],df['STATUS']))\n",
    "\n",
    "print('Chi-square test statistic:', chi2)\n",
    "print()\n",
    "print('p-value:', p)\n",
    "print()\n",
    "print('Degrees of freedom:', dof)\n",
    "print()\n",
    "print('Expected frequencies:\\n', expected)\n",
    "print()\n",
    "\n",
    "alpha = 0.05\n",
    "if p < alpha:\n",
    "    print('we reject Null Hypothesis H0')\n",
    "else:\n",
    "    print('Failed to reject Null Hypothesis H0')"
   ]
  },
  {
   "cell_type": "markdown",
   "id": "60cb653a",
   "metadata": {},
   "source": [
    "#### Ans2. Here it is evident from chi-square test that p_value is 0.0647 which is Greater than 0.05 so we can not reject null hypothesis hence we can state that Card holder's behaviour is independent of Owning a Car"
   ]
  },
  {
   "cell_type": "code",
   "execution_count": 46,
   "id": "5c1dc2ee",
   "metadata": {},
   "outputs": [
    {
     "name": "stdout",
     "output_type": "stream",
     "text": [
      "Probability of Card holder being Bad Given they are Married  0.118\n",
      "Probability of Card holder being Bad Given they are Married  0.882\n",
      "\n",
      "Probability of Card holder being Bad Given they are Single  0.135\n",
      "Probability of Card holder being Good Given they are Single  0.865\n",
      "\n",
      "Chi-square test statistic: 10.919920051529756\n",
      "\n",
      "p-value: 0.000951357148419561\n",
      "\n",
      "Degrees of freedom: 1\n",
      "\n",
      "Expected frequencies:\n",
      " [[ 2077.80249777 14936.19750223]\n",
      " [  660.19750223  4745.80249777]]\n",
      "\n",
      "we reject Null Hypothesis H0\n"
     ]
    }
   ],
   "source": [
    "M_status = df.loc[(df['Marital status'] == 'Married')]\n",
    "M_status_0 = M_status[M_status['STATUS'] == 0]\n",
    "M_status_1 = M_status[M_status['STATUS'] == 1]\n",
    "\n",
    "print('Probability of Card holder being Bad Given they are Married ',round(len(M_status_0)/len(M_status),4))\n",
    "print('Probability of Card holder being Bad Given they are Married ',round(len(M_status_1)/len(M_status),4))\n",
    "print()\n",
    "\n",
    "S_status = df.loc[(df['Marital status'] == 'Single')]\n",
    "S_status_0 = S_status[S_status['STATUS'] == 0]\n",
    "S_status_1 = S_status[S_status['STATUS'] == 1]\n",
    "\n",
    "print('Probability of Card holder being Bad Given they are Single ',round(len(S_status_0)/len(S_status),4))\n",
    "print('Probability of Card holder being Good Given they are Single ',round(len(S_status_1)/len(S_status),4))\n",
    "print()\n",
    "\n",
    "# Card holder's behaviour is dependent on Marital Status (check between 2 predictor variable)\n",
    "# Using Chi-Square test\n",
    "\n",
    "# Null hypothesis: There is no relationship between card holder's behaviour and Marital Status.\n",
    "# Alternative hypothesis: There is a relationship between card holder's behaviour and Marital Status.\n",
    "\n",
    "\n",
    "chi2, p , dof, expected = chi2_contingency(pd.crosstab(df['Marital status'],df['STATUS']))\n",
    "\n",
    "print('Chi-square test statistic:', chi2)\n",
    "print()\n",
    "print('p-value:', p)\n",
    "print()\n",
    "print('Degrees of freedom:', dof)\n",
    "print()\n",
    "print('Expected frequencies:\\n', expected)\n",
    "print()\n",
    "\n",
    "alpha = 0.05\n",
    "if p < alpha:\n",
    "    print('we reject Null Hypothesis H0')\n",
    "else:\n",
    "    print('Failed to reject Null Hypothesis H0')"
   ]
  },
  {
   "cell_type": "markdown",
   "id": "ee089af0",
   "metadata": {},
   "source": [
    "#### Ans3. Here it is evident from chi-square test that p_value is 0.00095 which is Less than 0.05 so we can reject null hypothesis hence we can state that Card holder's behaviour is dependent on Marital Status"
   ]
  },
  {
   "cell_type": "markdown",
   "id": "4ae75ad0",
   "metadata": {},
   "source": [
    "#### Q4. Probabilities of Card holder's being good or bad based on their educational background "
   ]
  },
  {
   "cell_type": "code",
   "execution_count": 47,
   "id": "85294128",
   "metadata": {},
   "outputs": [
    {
     "name": "stdout",
     "output_type": "stream",
     "text": [
      "Validation Part A Using probability\n",
      "\n",
      "STATUS                                0         1\n",
      "Education level                                  \n",
      "Academic degree                0.125000  0.875000\n",
      "Higher education               0.124394  0.875606\n",
      "Incomplete higher              0.126302  0.873698\n",
      "Lower secondary                0.159420  0.840580\n",
      "Secondary / secondary special  0.120466  0.879534\n",
      "\n",
      "Validation Part B using Statistics\n",
      "\n",
      "p-value: 0.35706226012714176\n",
      "Failed to reject Null Hypothesis H0\n"
     ]
    }
   ],
   "source": [
    "contingency_table = pd.crosstab(df['Education level'], df['STATUS'])\n",
    "\n",
    "# Calculate the conditional probabilities\n",
    "conditional_probabilities = contingency_table.div(contingency_table.sum(axis=1), axis=0)\n",
    "\n",
    "\n",
    "print('Validation Part A Using probability')\n",
    "print()\n",
    "# Print the conditional probabilities\n",
    "print(conditional_probabilities)\n",
    "\n",
    "# Card holder's behaviour is dependent on Education level (check between 2 predictor variable)\n",
    "# Using Chi-Square test\n",
    "\n",
    "# Null hypothesis: There is no relationship between card holder's behaviour and Education level.\n",
    "# Alternative hypothesis: There is a relationship between card holder's behaviour and Education level.\n",
    "\n",
    "\n",
    "chi2, p , dof, expected = chi2_contingency(pd.crosstab(df['Education level'],df['STATUS']))\n",
    "\n",
    "print()\n",
    "print('Validation Part B using Statistics')\n",
    "print()\n",
    "print('p-value:', p)\n",
    "\n",
    "alpha = 0.05\n",
    "if p < alpha:\n",
    "    print('we reject Null Hypothesis H0')\n",
    "else:\n",
    "    print('Failed to reject Null Hypothesis H0')"
   ]
  },
  {
   "cell_type": "markdown",
   "id": "458d24d5",
   "metadata": {},
   "source": [
    "#### Ans4. From validation A, one can observe that probbility of being good is almost similar for every education level and this is further again proved statiscally in Validation Part B that there is no impact of education on customer being good or bad"
   ]
  },
  {
   "cell_type": "markdown",
   "id": "cb60944f",
   "metadata": {},
   "source": [
    "#### Q.5 Is there any impact of Annual salary on Customer being Good or Bad"
   ]
  },
  {
   "cell_type": "code",
   "execution_count": 48,
   "id": "fa87a5e9",
   "metadata": {},
   "outputs": [
    {
     "name": "stdout",
     "output_type": "stream",
     "text": [
      "Validation using Statistics\n",
      "\n",
      "p-value: 0.005110187946213037\n",
      "we reject Null Hypothesis H0\n"
     ]
    }
   ],
   "source": [
    "bin_edges = [0, 100000, 200000, 300000, float('inf')]\n",
    "bin_labels = ['Low Salary', 'Medium Salary', 'High Salary', 'Very High Salary']\n",
    "\n",
    "# assigning the data into the bins and add a new column to the DataFrame\n",
    "df['Salary Category'] = pd.cut(df['Annual Income'], bins=bin_edges, labels=bin_labels)\n",
    "\n",
    "\n",
    "\n",
    "# Null hypothesis: There is no relationship between card holder's behaviour and Annual Income.\n",
    "# Alternative hypothesis: There is a relationship between card holder's behaviour and Annual Income.\n",
    "chi2, p , dof, expected = chi2_contingency(pd.crosstab(df['Salary Category'],df['STATUS']))\n",
    "\n",
    "print('Validation using Statistics')\n",
    "print()\n",
    "print('p-value:', p)\n",
    "\n",
    "alpha = 0.05\n",
    "if p < alpha:\n",
    "    print('we reject Null Hypothesis H0')\n",
    "else:\n",
    "    print('Failed to reject Null Hypothesis H0')"
   ]
  },
  {
   "cell_type": "markdown",
   "id": "7e271d30",
   "metadata": {},
   "source": [
    "## Model Building (Prediction of Good and Bad customers) using logstic regression \n",
    "\n",
    "### Logistic regression is a statistical model used for binary classification, where the outcome variable is categorical and has two possible values (e.g., yes/no, true/false, 0/1). It is a type of generalized linear model (GLM) that estimates the probability of the binary outcome based on a set of predictor variables.\n"
   ]
  },
  {
   "cell_type": "code",
   "execution_count": 49,
   "id": "026c0b83",
   "metadata": {},
   "outputs": [
    {
     "data": {
      "text/html": [
       "<div>\n",
       "<style scoped>\n",
       "    .dataframe tbody tr th:only-of-type {\n",
       "        vertical-align: middle;\n",
       "    }\n",
       "\n",
       "    .dataframe tbody tr th {\n",
       "        vertical-align: top;\n",
       "    }\n",
       "\n",
       "    .dataframe thead th {\n",
       "        text-align: right;\n",
       "    }\n",
       "</style>\n",
       "<table border=\"1\" class=\"dataframe\">\n",
       "  <thead>\n",
       "    <tr style=\"text-align: right;\">\n",
       "      <th></th>\n",
       "      <th>Gender</th>\n",
       "      <th>Own Car</th>\n",
       "      <th>No of Children</th>\n",
       "      <th>Annual Income</th>\n",
       "      <th>Income category</th>\n",
       "      <th>Education level</th>\n",
       "      <th>Marital status</th>\n",
       "      <th>Way of living</th>\n",
       "      <th>Age</th>\n",
       "      <th>years into job</th>\n",
       "      <th>Occupation type</th>\n",
       "      <th>Count of family members</th>\n",
       "      <th>STATUS</th>\n",
       "      <th>Salary Category</th>\n",
       "    </tr>\n",
       "  </thead>\n",
       "  <tbody>\n",
       "    <tr>\n",
       "      <th>453876</th>\n",
       "      <td>F</td>\n",
       "      <td>N</td>\n",
       "      <td>0</td>\n",
       "      <td>157500.0</td>\n",
       "      <td>Working</td>\n",
       "      <td>Higher education</td>\n",
       "      <td>Married</td>\n",
       "      <td>House / apartment</td>\n",
       "      <td>33</td>\n",
       "      <td>11</td>\n",
       "      <td>Core staff</td>\n",
       "      <td>1</td>\n",
       "      <td>1</td>\n",
       "      <td>Medium Salary</td>\n",
       "    </tr>\n",
       "    <tr>\n",
       "      <th>144172</th>\n",
       "      <td>M</td>\n",
       "      <td>N</td>\n",
       "      <td>0</td>\n",
       "      <td>90000.0</td>\n",
       "      <td>Working</td>\n",
       "      <td>Higher education</td>\n",
       "      <td>Single</td>\n",
       "      <td>With parents</td>\n",
       "      <td>31</td>\n",
       "      <td>2</td>\n",
       "      <td>Laborers</td>\n",
       "      <td>1</td>\n",
       "      <td>1</td>\n",
       "      <td>Low Salary</td>\n",
       "    </tr>\n",
       "    <tr>\n",
       "      <th>512812</th>\n",
       "      <td>F</td>\n",
       "      <td>Y</td>\n",
       "      <td>2</td>\n",
       "      <td>135000.0</td>\n",
       "      <td>Commercial associate</td>\n",
       "      <td>Higher education</td>\n",
       "      <td>Married</td>\n",
       "      <td>House / apartment</td>\n",
       "      <td>27</td>\n",
       "      <td>3</td>\n",
       "      <td>Managers</td>\n",
       "      <td>0</td>\n",
       "      <td>1</td>\n",
       "      <td>Medium Salary</td>\n",
       "    </tr>\n",
       "    <tr>\n",
       "      <th>539762</th>\n",
       "      <td>F</td>\n",
       "      <td>Y</td>\n",
       "      <td>2</td>\n",
       "      <td>112500.0</td>\n",
       "      <td>Working</td>\n",
       "      <td>Higher education</td>\n",
       "      <td>Married</td>\n",
       "      <td>House / apartment</td>\n",
       "      <td>36</td>\n",
       "      <td>8</td>\n",
       "      <td>Accountants</td>\n",
       "      <td>0</td>\n",
       "      <td>1</td>\n",
       "      <td>Medium Salary</td>\n",
       "    </tr>\n",
       "    <tr>\n",
       "      <th>240670</th>\n",
       "      <td>M</td>\n",
       "      <td>Y</td>\n",
       "      <td>1</td>\n",
       "      <td>270000.0</td>\n",
       "      <td>Commercial associate</td>\n",
       "      <td>Secondary / secondary special</td>\n",
       "      <td>Married</td>\n",
       "      <td>House / apartment</td>\n",
       "      <td>33</td>\n",
       "      <td>2</td>\n",
       "      <td>Laborers</td>\n",
       "      <td>1</td>\n",
       "      <td>1</td>\n",
       "      <td>High Salary</td>\n",
       "    </tr>\n",
       "  </tbody>\n",
       "</table>\n",
       "</div>"
      ],
      "text/plain": [
       "       Gender Own Car  No of Children  Annual Income       Income category  \\\n",
       "453876      F       N               0       157500.0               Working   \n",
       "144172      M       N               0        90000.0               Working   \n",
       "512812      F       Y               2       135000.0  Commercial associate   \n",
       "539762      F       Y               2       112500.0               Working   \n",
       "240670      M       Y               1       270000.0  Commercial associate   \n",
       "\n",
       "                      Education level Marital status      Way of living  Age  \\\n",
       "453876               Higher education        Married  House / apartment   33   \n",
       "144172               Higher education         Single       With parents   31   \n",
       "512812               Higher education        Married  House / apartment   27   \n",
       "539762               Higher education        Married  House / apartment   36   \n",
       "240670  Secondary / secondary special        Married  House / apartment   33   \n",
       "\n",
       "        years into job Occupation type  Count of family members  STATUS  \\\n",
       "453876              11      Core staff                        1       1   \n",
       "144172               2        Laborers                        1       1   \n",
       "512812               3        Managers                        0       1   \n",
       "539762               8     Accountants                        0       1   \n",
       "240670               2        Laborers                        1       1   \n",
       "\n",
       "       Salary Category  \n",
       "453876   Medium Salary  \n",
       "144172      Low Salary  \n",
       "512812   Medium Salary  \n",
       "539762   Medium Salary  \n",
       "240670     High Salary  "
      ]
     },
     "execution_count": 49,
     "metadata": {},
     "output_type": "execute_result"
    }
   ],
   "source": [
    "df.sample(5)"
   ]
  },
  {
   "cell_type": "markdown",
   "id": "8fbbef11",
   "metadata": {},
   "source": [
    "#### Dropping some columns for simplification of model and reduction in noise "
   ]
  },
  {
   "cell_type": "code",
   "execution_count": 50,
   "id": "5d9ae26b",
   "metadata": {},
   "outputs": [],
   "source": [
    "df.drop(['Count of family members','Occupation type','Salary Category','Way of living'], axis = 1, inplace = True)"
   ]
  },
  {
   "cell_type": "code",
   "execution_count": 51,
   "id": "99a79558",
   "metadata": {},
   "outputs": [
    {
     "data": {
      "text/html": [
       "<div>\n",
       "<style scoped>\n",
       "    .dataframe tbody tr th:only-of-type {\n",
       "        vertical-align: middle;\n",
       "    }\n",
       "\n",
       "    .dataframe tbody tr th {\n",
       "        vertical-align: top;\n",
       "    }\n",
       "\n",
       "    .dataframe thead th {\n",
       "        text-align: right;\n",
       "    }\n",
       "</style>\n",
       "<table border=\"1\" class=\"dataframe\">\n",
       "  <thead>\n",
       "    <tr style=\"text-align: right;\">\n",
       "      <th></th>\n",
       "      <th>Gender</th>\n",
       "      <th>Own Car</th>\n",
       "      <th>No of Children</th>\n",
       "      <th>Annual Income</th>\n",
       "      <th>Income category</th>\n",
       "      <th>Education level</th>\n",
       "      <th>Marital status</th>\n",
       "      <th>Age</th>\n",
       "      <th>years into job</th>\n",
       "      <th>STATUS</th>\n",
       "    </tr>\n",
       "  </thead>\n",
       "  <tbody>\n",
       "    <tr>\n",
       "      <th>356738</th>\n",
       "      <td>M</td>\n",
       "      <td>Y</td>\n",
       "      <td>0</td>\n",
       "      <td>202500.0</td>\n",
       "      <td>Working</td>\n",
       "      <td>Secondary / secondary special</td>\n",
       "      <td>Married</td>\n",
       "      <td>51</td>\n",
       "      <td>32</td>\n",
       "      <td>1</td>\n",
       "    </tr>\n",
       "    <tr>\n",
       "      <th>723115</th>\n",
       "      <td>F</td>\n",
       "      <td>Y</td>\n",
       "      <td>1</td>\n",
       "      <td>1575000.0</td>\n",
       "      <td>Commercial associate</td>\n",
       "      <td>Higher education</td>\n",
       "      <td>Single</td>\n",
       "      <td>27</td>\n",
       "      <td>6</td>\n",
       "      <td>0</td>\n",
       "    </tr>\n",
       "    <tr>\n",
       "      <th>731730</th>\n",
       "      <td>F</td>\n",
       "      <td>N</td>\n",
       "      <td>0</td>\n",
       "      <td>247500.0</td>\n",
       "      <td>Working</td>\n",
       "      <td>Secondary / secondary special</td>\n",
       "      <td>Single</td>\n",
       "      <td>47</td>\n",
       "      <td>14</td>\n",
       "      <td>1</td>\n",
       "    </tr>\n",
       "  </tbody>\n",
       "</table>\n",
       "</div>"
      ],
      "text/plain": [
       "       Gender Own Car  No of Children  Annual Income       Income category  \\\n",
       "356738      M       Y               0       202500.0               Working   \n",
       "723115      F       Y               1      1575000.0  Commercial associate   \n",
       "731730      F       N               0       247500.0               Working   \n",
       "\n",
       "                      Education level Marital status  Age  years into job  \\\n",
       "356738  Secondary / secondary special        Married   51              32   \n",
       "723115               Higher education         Single   27               6   \n",
       "731730  Secondary / secondary special         Single   47              14   \n",
       "\n",
       "        STATUS  \n",
       "356738       1  \n",
       "723115       0  \n",
       "731730       1  "
      ]
     },
     "execution_count": 51,
     "metadata": {},
     "output_type": "execute_result"
    }
   ],
   "source": [
    "df.sample(3)"
   ]
  },
  {
   "cell_type": "markdown",
   "id": "96fcd5aa",
   "metadata": {},
   "source": [
    "#### Converting few column having binary values but non numeric values into column having binary values (0/1)"
   ]
  },
  {
   "cell_type": "code",
   "execution_count": 52,
   "id": "853d83c9",
   "metadata": {},
   "outputs": [],
   "source": [
    "df['Gender'] = df['Gender'].map({'F':0,'M':1})\n",
    "df['Own Car'] = df['Own Car'].map({'N':0,'Y':1})\n",
    "df['Marital status'] = df['Marital status'].map({'Single':0,'Married':1})"
   ]
  },
  {
   "cell_type": "markdown",
   "id": "a0b4b777",
   "metadata": {},
   "source": [
    "#### Creating dummy features for categorical variable with multiple levels"
   ]
  },
  {
   "cell_type": "code",
   "execution_count": 53,
   "id": "37460b3f",
   "metadata": {},
   "outputs": [],
   "source": [
    "df = pd.get_dummies(df, columns = ['Income category','Education level'], drop_first = True)"
   ]
  },
  {
   "cell_type": "code",
   "execution_count": 54,
   "id": "4a660ff9",
   "metadata": {},
   "outputs": [
    {
     "data": {
      "text/html": [
       "<div>\n",
       "<style scoped>\n",
       "    .dataframe tbody tr th:only-of-type {\n",
       "        vertical-align: middle;\n",
       "    }\n",
       "\n",
       "    .dataframe tbody tr th {\n",
       "        vertical-align: top;\n",
       "    }\n",
       "\n",
       "    .dataframe thead th {\n",
       "        text-align: right;\n",
       "    }\n",
       "</style>\n",
       "<table border=\"1\" class=\"dataframe\">\n",
       "  <thead>\n",
       "    <tr style=\"text-align: right;\">\n",
       "      <th></th>\n",
       "      <th>Gender</th>\n",
       "      <th>Own Car</th>\n",
       "      <th>No of Children</th>\n",
       "      <th>Annual Income</th>\n",
       "      <th>Marital status</th>\n",
       "      <th>Age</th>\n",
       "      <th>years into job</th>\n",
       "      <th>STATUS</th>\n",
       "      <th>Income category_Pensioner</th>\n",
       "      <th>Income category_State servant</th>\n",
       "      <th>Income category_Student</th>\n",
       "      <th>Income category_Working</th>\n",
       "      <th>Education level_Higher education</th>\n",
       "      <th>Education level_Incomplete higher</th>\n",
       "      <th>Education level_Lower secondary</th>\n",
       "      <th>Education level_Secondary / secondary special</th>\n",
       "    </tr>\n",
       "  </thead>\n",
       "  <tbody>\n",
       "    <tr>\n",
       "      <th>194125</th>\n",
       "      <td>0</td>\n",
       "      <td>1</td>\n",
       "      <td>0</td>\n",
       "      <td>247500.0</td>\n",
       "      <td>1</td>\n",
       "      <td>32</td>\n",
       "      <td>6</td>\n",
       "      <td>1</td>\n",
       "      <td>0</td>\n",
       "      <td>0</td>\n",
       "      <td>0</td>\n",
       "      <td>1</td>\n",
       "      <td>1</td>\n",
       "      <td>0</td>\n",
       "      <td>0</td>\n",
       "      <td>0</td>\n",
       "    </tr>\n",
       "    <tr>\n",
       "      <th>2931</th>\n",
       "      <td>1</td>\n",
       "      <td>1</td>\n",
       "      <td>0</td>\n",
       "      <td>157500.0</td>\n",
       "      <td>1</td>\n",
       "      <td>27</td>\n",
       "      <td>2</td>\n",
       "      <td>1</td>\n",
       "      <td>0</td>\n",
       "      <td>0</td>\n",
       "      <td>0</td>\n",
       "      <td>1</td>\n",
       "      <td>0</td>\n",
       "      <td>0</td>\n",
       "      <td>0</td>\n",
       "      <td>1</td>\n",
       "    </tr>\n",
       "    <tr>\n",
       "      <th>407755</th>\n",
       "      <td>0</td>\n",
       "      <td>0</td>\n",
       "      <td>0</td>\n",
       "      <td>135000.0</td>\n",
       "      <td>0</td>\n",
       "      <td>57</td>\n",
       "      <td>9</td>\n",
       "      <td>1</td>\n",
       "      <td>0</td>\n",
       "      <td>0</td>\n",
       "      <td>0</td>\n",
       "      <td>1</td>\n",
       "      <td>0</td>\n",
       "      <td>0</td>\n",
       "      <td>0</td>\n",
       "      <td>1</td>\n",
       "    </tr>\n",
       "    <tr>\n",
       "      <th>566497</th>\n",
       "      <td>0</td>\n",
       "      <td>1</td>\n",
       "      <td>0</td>\n",
       "      <td>90000.0</td>\n",
       "      <td>1</td>\n",
       "      <td>67</td>\n",
       "      <td>0</td>\n",
       "      <td>1</td>\n",
       "      <td>1</td>\n",
       "      <td>0</td>\n",
       "      <td>0</td>\n",
       "      <td>0</td>\n",
       "      <td>1</td>\n",
       "      <td>0</td>\n",
       "      <td>0</td>\n",
       "      <td>0</td>\n",
       "    </tr>\n",
       "    <tr>\n",
       "      <th>548248</th>\n",
       "      <td>0</td>\n",
       "      <td>0</td>\n",
       "      <td>0</td>\n",
       "      <td>135000.0</td>\n",
       "      <td>1</td>\n",
       "      <td>57</td>\n",
       "      <td>0</td>\n",
       "      <td>1</td>\n",
       "      <td>1</td>\n",
       "      <td>0</td>\n",
       "      <td>0</td>\n",
       "      <td>0</td>\n",
       "      <td>0</td>\n",
       "      <td>0</td>\n",
       "      <td>0</td>\n",
       "      <td>1</td>\n",
       "    </tr>\n",
       "  </tbody>\n",
       "</table>\n",
       "</div>"
      ],
      "text/plain": [
       "        Gender  Own Car  No of Children  Annual Income  Marital status  Age  \\\n",
       "194125       0        1               0       247500.0               1   32   \n",
       "2931         1        1               0       157500.0               1   27   \n",
       "407755       0        0               0       135000.0               0   57   \n",
       "566497       0        1               0        90000.0               1   67   \n",
       "548248       0        0               0       135000.0               1   57   \n",
       "\n",
       "        years into job  STATUS  Income category_Pensioner  \\\n",
       "194125               6       1                          0   \n",
       "2931                 2       1                          0   \n",
       "407755               9       1                          0   \n",
       "566497               0       1                          1   \n",
       "548248               0       1                          1   \n",
       "\n",
       "        Income category_State servant  Income category_Student  \\\n",
       "194125                              0                        0   \n",
       "2931                                0                        0   \n",
       "407755                              0                        0   \n",
       "566497                              0                        0   \n",
       "548248                              0                        0   \n",
       "\n",
       "        Income category_Working  Education level_Higher education  \\\n",
       "194125                        1                                 1   \n",
       "2931                          1                                 0   \n",
       "407755                        1                                 0   \n",
       "566497                        0                                 1   \n",
       "548248                        0                                 0   \n",
       "\n",
       "        Education level_Incomplete higher  Education level_Lower secondary  \\\n",
       "194125                                  0                                0   \n",
       "2931                                    0                                0   \n",
       "407755                                  0                                0   \n",
       "566497                                  0                                0   \n",
       "548248                                  0                                0   \n",
       "\n",
       "        Education level_Secondary / secondary special  \n",
       "194125                                              0  \n",
       "2931                                                1  \n",
       "407755                                              1  \n",
       "566497                                              0  \n",
       "548248                                              1  "
      ]
     },
     "execution_count": 54,
     "metadata": {},
     "output_type": "execute_result"
    }
   ],
   "source": [
    "df.sample(5)"
   ]
  },
  {
   "cell_type": "markdown",
   "id": "73727441",
   "metadata": {},
   "source": [
    "#### Converting skewed columns into normally distributed columns using Log transformations "
   ]
  },
  {
   "cell_type": "code",
   "execution_count": 55,
   "id": "594a7d27",
   "metadata": {},
   "outputs": [
    {
     "data": {
      "image/png": "[encoded data removed]",
      "text/plain": [
       "<Figure size 1080x720 with 4 Axes>"
      ]
     },
     "metadata": {
      "needs_background": "light"
     },
     "output_type": "display_data"
    }
   ],
   "source": [
    "df['annual income'] = np.log(df['Annual Income'])\n",
    "df['Total Work ex'] = np.log(df['years into job'] + 0.5)  # Add a small constant value (1e-8) to avoid zero or negative values\n",
    "df['Total Work ex'].fillna(df['Total Work ex'].mean(), inplace=True)\n",
    "\n",
    "# Create subplots with a 2x2 layout\n",
    "plt.figure(figsize=(15, 10))\n",
    "\n",
    "plt.subplot(2, 2, 1)\n",
    "sns.distplot(df['Annual Income'])\n",
    "plt.xlabel('Annual Income')\n",
    "plt.ylabel('Frequency')\n",
    "plt.title('Before log transformation')\n",
    "\n",
    "plt.subplot(2, 2, 2)\n",
    "sns.distplot(df['annual income'])\n",
    "plt.xlabel('Annual Income (log)')\n",
    "plt.ylabel('Frequency')\n",
    "plt.title('After log transformation')\n",
    "\n",
    "plt.subplot(2, 2, 3)\n",
    "sns.distplot(df['years into job'])\n",
    "plt.xlabel('Years into Job')\n",
    "plt.ylabel('Frequency')\n",
    "plt.title('Before log transformation')\n",
    "\n",
    "plt.subplot(2, 2, 4)\n",
    "sns.distplot(df['Total Work ex'])\n",
    "plt.xlabel('Total Work ex (log)')\n",
    "plt.ylabel('Frequency')\n",
    "plt.title('After log transformation')\n",
    "\n",
    "plt.tight_layout()\n",
    "plt.show()\n"
   ]
  },
  {
   "cell_type": "code",
   "execution_count": 56,
   "id": "971aadc6",
   "metadata": {},
   "outputs": [
    {
     "data": {
      "text/plain": [
       "<AxesSubplot:>"
      ]
     },
     "execution_count": 56,
     "metadata": {},
     "output_type": "execute_result"
    },
    {
     "data": {
      "image/png": "[encoded data removed]",
      "text/plain": [
       "<Figure size 1080x720 with 2 Axes>"
      ]
     },
     "metadata": {
      "needs_background": "light"
     },
     "output_type": "display_data"
    }
   ],
   "source": [
    "plt.figure(figsize = (15,10))\n",
    "sns.heatmap(df.corr(), cmap = 'Blues', annot = True)"
   ]
  },
  {
   "cell_type": "markdown",
   "id": "d7d0951e",
   "metadata": {},
   "source": [
    "#### Creating independent variable(X) and dependent variable(y)"
   ]
  },
  {
   "cell_type": "code",
   "execution_count": 57,
   "id": "56fa27af",
   "metadata": {},
   "outputs": [],
   "source": [
    "y = df.pop('STATUS')\n",
    "X = df.copy()"
   ]
  },
  {
   "cell_type": "markdown",
   "id": "2a2fe9f6",
   "metadata": {},
   "source": [
    "#### Breaking dataset into train dataset and test dataset"
   ]
  },
  {
   "cell_type": "code",
   "execution_count": 58,
   "id": "6e39d2b4",
   "metadata": {},
   "outputs": [],
   "source": [
    "from sklearn.model_selection import train_test_split\n",
    "\n",
    "X_train, X_test, y_train, y_test = train_test_split(X, y, test_size=0.2, random_state=42)"
   ]
  },
  {
   "cell_type": "markdown",
   "id": "2137f062",
   "metadata": {},
   "source": [
    "#### Creating logistic regression object"
   ]
  },
  {
   "cell_type": "code",
   "execution_count": 59,
   "id": "88a61883",
   "metadata": {},
   "outputs": [],
   "source": [
    "from sklearn.linear_model import LogisticRegression\n",
    "lr = LogisticRegression()"
   ]
  },
  {
   "cell_type": "markdown",
   "id": "d8ae5fef",
   "metadata": {},
   "source": [
    "#### Choosing 5 most important variables using RFE method"
   ]
  },
  {
   "cell_type": "code",
   "execution_count": 153,
   "id": "2e234e3f",
   "metadata": {},
   "outputs": [],
   "source": [
    "from sklearn.feature_selection import RFE\n",
    "rfe = RFE(estimator=lr, n_features_to_select=5)\n",
    "rfe = rfe.fit(X_train, y_train)"
   ]
  },
  {
   "cell_type": "code",
   "execution_count": 61,
   "id": "d4bfac8c",
   "metadata": {},
   "outputs": [
    {
     "data": {
      "text/plain": [
       "array([False, False, False, False,  True, False, False, False, False,\n",
       "       False, False, False,  True,  True,  True,  True, False])"
      ]
     },
     "execution_count": 61,
     "metadata": {},
     "output_type": "execute_result"
    }
   ],
   "source": [
    "rfe.support_"
   ]
  },
  {
   "cell_type": "markdown",
   "id": "b8ea43a2",
   "metadata": {},
   "source": [
    "#### Displaying columns which has been choosen by RFE method"
   ]
  },
  {
   "cell_type": "code",
   "execution_count": 62,
   "id": "58b01026",
   "metadata": {},
   "outputs": [
    {
     "data": {
      "text/plain": [
       "[('Gender', False, 8),\n",
       " ('Own Car', False, 11),\n",
       " ('No of Children', False, 9),\n",
       " ('Annual Income', False, 12),\n",
       " ('Marital status', True, 1),\n",
       " ('Age', False, 10),\n",
       " ('years into job', False, 7),\n",
       " ('Income category_Pensioner', False, 4),\n",
       " ('Income category_State servant', False, 6),\n",
       " ('Income category_Student', False, 13),\n",
       " ('Income category_Working', False, 3),\n",
       " ('Education level_Higher education', False, 2),\n",
       " ('Education level_Incomplete higher', True, 1),\n",
       " ('Education level_Lower secondary', True, 1),\n",
       " ('Education level_Secondary / secondary special', True, 1),\n",
       " ('annual income', True, 1),\n",
       " ('Total Work ex', False, 5)]"
      ]
     },
     "execution_count": 62,
     "metadata": {},
     "output_type": "execute_result"
    }
   ],
   "source": [
    "list(zip(X_train.columns,rfe.support_, rfe.ranking_ ))"
   ]
  },
  {
   "cell_type": "code",
   "execution_count": 63,
   "id": "600ed3f8",
   "metadata": {},
   "outputs": [],
   "source": [
    "col = X_train.columns[rfe.support_]"
   ]
  },
  {
   "cell_type": "markdown",
   "id": "bb29f82d",
   "metadata": {},
   "source": [
    "#### Doing further verification on columns by comparing p-values of features or independent variables "
   ]
  },
  {
   "cell_type": "code",
   "execution_count": 64,
   "id": "6f076183",
   "metadata": {},
   "outputs": [
    {
     "data": {
      "text/html": [
       "<table class=\"simpletable\">\n",
       "<caption>Generalized Linear Model Regression Results</caption>\n",
       "<tr>\n",
       "  <th>Dep. Variable:</th>        <td>STATUS</td>      <th>  No. Observations:  </th>  <td> 17936</td> \n",
       "</tr>\n",
       "<tr>\n",
       "  <th>Model:</th>                  <td>GLM</td>       <th>  Df Residuals:      </th>  <td> 17930</td> \n",
       "</tr>\n",
       "<tr>\n",
       "  <th>Model Family:</th>        <td>Binomial</td>     <th>  Df Model:          </th>  <td>     5</td> \n",
       "</tr>\n",
       "<tr>\n",
       "  <th>Link Function:</th>         <td>Logit</td>      <th>  Scale:             </th> <td>  1.0000</td>\n",
       "</tr>\n",
       "<tr>\n",
       "  <th>Method:</th>                <td>IRLS</td>       <th>  Log-Likelihood:    </th> <td> -6587.9</td>\n",
       "</tr>\n",
       "<tr>\n",
       "  <th>Date:</th>            <td>Thu, 01 Jun 2023</td> <th>  Deviance:          </th> <td>  13176.</td>\n",
       "</tr>\n",
       "<tr>\n",
       "  <th>Time:</th>                <td>20:22:39</td>     <th>  Pearson chi2:      </th> <td>1.79e+04</td>\n",
       "</tr>\n",
       "<tr>\n",
       "  <th>No. Iterations:</th>          <td>5</td>        <th>  Pseudo R-squ. (CS):</th> <td>0.001394</td>\n",
       "</tr>\n",
       "<tr>\n",
       "  <th>Covariance Type:</th>     <td>nonrobust</td>    <th>                     </th>     <td> </td>   \n",
       "</tr>\n",
       "</table>\n",
       "<table class=\"simpletable\">\n",
       "<tr>\n",
       "                        <td></td>                           <th>coef</th>     <th>std err</th>      <th>z</th>      <th>P>|z|</th>  <th>[0.025</th>    <th>0.975]</th>  \n",
       "</tr>\n",
       "<tr>\n",
       "  <th>const</th>                                         <td>    3.2601</td> <td>    0.596</td> <td>    5.468</td> <td> 0.000</td> <td>    2.091</td> <td>    4.429</td>\n",
       "</tr>\n",
       "<tr>\n",
       "  <th>Marital status</th>                                <td>    0.1934</td> <td>    0.052</td> <td>    3.729</td> <td> 0.000</td> <td>    0.092</td> <td>    0.295</td>\n",
       "</tr>\n",
       "<tr>\n",
       "  <th>Education level_Incomplete higher</th>             <td>    0.0055</td> <td>    0.129</td> <td>    0.042</td> <td> 0.966</td> <td>   -0.248</td> <td>    0.259</td>\n",
       "</tr>\n",
       "<tr>\n",
       "  <th>Education level_Lower secondary</th>               <td>   -0.3373</td> <td>    0.191</td> <td>   -1.763</td> <td> 0.078</td> <td>   -0.712</td> <td>    0.038</td>\n",
       "</tr>\n",
       "<tr>\n",
       "  <th>Education level_Secondary / secondary special</th> <td>    0.0484</td> <td>    0.054</td> <td>    0.889</td> <td> 0.374</td> <td>   -0.058</td> <td>    0.155</td>\n",
       "</tr>\n",
       "<tr>\n",
       "  <th>annual income</th>                                 <td>   -0.1205</td> <td>    0.049</td> <td>   -2.480</td> <td> 0.013</td> <td>   -0.216</td> <td>   -0.025</td>\n",
       "</tr>\n",
       "</table>"
      ],
      "text/plain": [
       "<class 'statsmodels.iolib.summary.Summary'>\n",
       "\"\"\"\n",
       "                 Generalized Linear Model Regression Results                  \n",
       "==============================================================================\n",
       "Dep. Variable:                 STATUS   No. Observations:                17936\n",
       "Model:                            GLM   Df Residuals:                    17930\n",
       "Model Family:                Binomial   Df Model:                            5\n",
       "Link Function:                  Logit   Scale:                          1.0000\n",
       "Method:                          IRLS   Log-Likelihood:                -6587.9\n",
       "Date:                Thu, 01 Jun 2023   Deviance:                       13176.\n",
       "Time:                        20:22:39   Pearson chi2:                 1.79e+04\n",
       "No. Iterations:                     5   Pseudo R-squ. (CS):           0.001394\n",
       "Covariance Type:            nonrobust                                         \n",
       "=================================================================================================================\n",
       "                                                    coef    std err          z      P>|z|      [0.025      0.975]\n",
       "-----------------------------------------------------------------------------------------------------------------\n",
       "const                                             3.2601      0.596      5.468      0.000       2.091       4.429\n",
       "Marital status                                    0.1934      0.052      3.729      0.000       0.092       0.295\n",
       "Education level_Incomplete higher                 0.0055      0.129      0.042      0.966      -0.248       0.259\n",
       "Education level_Lower secondary                  -0.3373      0.191     -1.763      0.078      -0.712       0.038\n",
       "Education level_Secondary / secondary special     0.0484      0.054      0.889      0.374      -0.058       0.155\n",
       "annual income                                    -0.1205      0.049     -2.480      0.013      -0.216      -0.025\n",
       "=================================================================================================================\n",
       "\"\"\""
      ]
     },
     "execution_count": 64,
     "metadata": {},
     "output_type": "execute_result"
    }
   ],
   "source": [
    "import statsmodels.api as sm\n",
    "import statsmodels.genmod.families as fam\n",
    "\n",
    "X_train_sm = sm.add_constant(X_train[col])\n",
    "logm2 = sm.GLM(y_train, X_train_sm, family=fam.Binomial())\n",
    "res = logm2.fit()\n",
    "res.summary()\n"
   ]
  },
  {
   "cell_type": "markdown",
   "id": "94503eb3",
   "metadata": {},
   "source": [
    "#### Eliminating Features with high p-values and checking p-values of remaining idependent variables and training model on train dataset"
   ]
  },
  {
   "cell_type": "code",
   "execution_count": 65,
   "id": "2d8eb35d",
   "metadata": {},
   "outputs": [
    {
     "data": {
      "text/html": [
       "<table class=\"simpletable\">\n",
       "<caption>Generalized Linear Model Regression Results</caption>\n",
       "<tr>\n",
       "  <th>Dep. Variable:</th>        <td>STATUS</td>      <th>  No. Observations:  </th>  <td> 17936</td> \n",
       "</tr>\n",
       "<tr>\n",
       "  <th>Model:</th>                  <td>GLM</td>       <th>  Df Residuals:      </th>  <td> 17931</td> \n",
       "</tr>\n",
       "<tr>\n",
       "  <th>Model Family:</th>        <td>Binomial</td>     <th>  Df Model:          </th>  <td>     4</td> \n",
       "</tr>\n",
       "<tr>\n",
       "  <th>Link Function:</th>         <td>Logit</td>      <th>  Scale:             </th> <td>  1.0000</td>\n",
       "</tr>\n",
       "<tr>\n",
       "  <th>Method:</th>                <td>IRLS</td>       <th>  Log-Likelihood:    </th> <td> -6587.9</td>\n",
       "</tr>\n",
       "<tr>\n",
       "  <th>Date:</th>            <td>Thu, 01 Jun 2023</td> <th>  Deviance:          </th> <td>  13176.</td>\n",
       "</tr>\n",
       "<tr>\n",
       "  <th>Time:</th>                <td>20:22:39</td>     <th>  Pearson chi2:      </th> <td>1.79e+04</td>\n",
       "</tr>\n",
       "<tr>\n",
       "  <th>No. Iterations:</th>          <td>5</td>        <th>  Pseudo R-squ. (CS):</th> <td>0.001394</td>\n",
       "</tr>\n",
       "<tr>\n",
       "  <th>Covariance Type:</th>     <td>nonrobust</td>    <th>                     </th>     <td> </td>   \n",
       "</tr>\n",
       "</table>\n",
       "<table class=\"simpletable\">\n",
       "<tr>\n",
       "                        <td></td>                           <th>coef</th>     <th>std err</th>      <th>z</th>      <th>P>|z|</th>  <th>[0.025</th>    <th>0.975]</th>  \n",
       "</tr>\n",
       "<tr>\n",
       "  <th>const</th>                                         <td>    3.2617</td> <td>    0.595</td> <td>    5.481</td> <td> 0.000</td> <td>    2.095</td> <td>    4.428</td>\n",
       "</tr>\n",
       "<tr>\n",
       "  <th>Marital status</th>                                <td>    0.1933</td> <td>    0.052</td> <td>    3.729</td> <td> 0.000</td> <td>    0.092</td> <td>    0.295</td>\n",
       "</tr>\n",
       "<tr>\n",
       "  <th>Education level_Lower secondary</th>               <td>   -0.3380</td> <td>    0.191</td> <td>   -1.773</td> <td> 0.076</td> <td>   -0.711</td> <td>    0.036</td>\n",
       "</tr>\n",
       "<tr>\n",
       "  <th>Education level_Secondary / secondary special</th> <td>    0.0478</td> <td>    0.052</td> <td>    0.919</td> <td> 0.358</td> <td>   -0.054</td> <td>    0.150</td>\n",
       "</tr>\n",
       "<tr>\n",
       "  <th>annual income</th>                                 <td>   -0.1205</td> <td>    0.049</td> <td>   -2.483</td> <td> 0.013</td> <td>   -0.216</td> <td>   -0.025</td>\n",
       "</tr>\n",
       "</table>"
      ],
      "text/plain": [
       "<class 'statsmodels.iolib.summary.Summary'>\n",
       "\"\"\"\n",
       "                 Generalized Linear Model Regression Results                  \n",
       "==============================================================================\n",
       "Dep. Variable:                 STATUS   No. Observations:                17936\n",
       "Model:                            GLM   Df Residuals:                    17931\n",
       "Model Family:                Binomial   Df Model:                            4\n",
       "Link Function:                  Logit   Scale:                          1.0000\n",
       "Method:                          IRLS   Log-Likelihood:                -6587.9\n",
       "Date:                Thu, 01 Jun 2023   Deviance:                       13176.\n",
       "Time:                        20:22:39   Pearson chi2:                 1.79e+04\n",
       "No. Iterations:                     5   Pseudo R-squ. (CS):           0.001394\n",
       "Covariance Type:            nonrobust                                         \n",
       "=================================================================================================================\n",
       "                                                    coef    std err          z      P>|z|      [0.025      0.975]\n",
       "-----------------------------------------------------------------------------------------------------------------\n",
       "const                                             3.2617      0.595      5.481      0.000       2.095       4.428\n",
       "Marital status                                    0.1933      0.052      3.729      0.000       0.092       0.295\n",
       "Education level_Lower secondary                  -0.3380      0.191     -1.773      0.076      -0.711       0.036\n",
       "Education level_Secondary / secondary special     0.0478      0.052      0.919      0.358      -0.054       0.150\n",
       "annual income                                    -0.1205      0.049     -2.483      0.013      -0.216      -0.025\n",
       "=================================================================================================================\n",
       "\"\"\""
      ]
     },
     "execution_count": 65,
     "metadata": {},
     "output_type": "execute_result"
    }
   ],
   "source": [
    "columns_to_remove = ['Education level_Incomplete higher']\n",
    "X_train_new = X_train[col].drop(columns_to_remove, axis=1)\n",
    "\n",
    "X_train_sm = sm.add_constant(X_train_new)\n",
    "logm2 = sm.GLM(y_train, X_train_sm, family=fam.Binomial())\n",
    "res = logm2.fit()\n",
    "res.summary()\n"
   ]
  },
  {
   "cell_type": "markdown",
   "id": "87d1fa55",
   "metadata": {},
   "source": [
    "#### Making prediction on Test dataset but here we will only get answers in terms of probabiliies "
   ]
  },
  {
   "cell_type": "code",
   "execution_count": 66,
   "id": "cb3e6d3e",
   "metadata": {},
   "outputs": [
    {
     "data": {
      "text/plain": [
       "94086     0.882095\n",
       "104634    0.888821\n",
       "411752    0.872275\n",
       "167369    0.858512\n",
       "23534     0.862672\n",
       "211181    0.859649\n",
       "103219    0.882589\n",
       "481595    0.866092\n",
       "166322    0.885348\n",
       "308640    0.896814\n",
       "dtype: float64"
      ]
     },
     "execution_count": 66,
     "metadata": {},
     "output_type": "execute_result"
    }
   ],
   "source": [
    "y_test_pred = res.predict(X_train_sm)\n",
    "y_test_pred[:10]"
   ]
  },
  {
   "cell_type": "code",
   "execution_count": 67,
   "id": "5871ca93",
   "metadata": {},
   "outputs": [
    {
     "data": {
      "text/plain": [
       "array([0.88209493, 0.88882147, 0.87227455, 0.85851162, 0.86267203,\n",
       "       0.85964938, 0.88258903, 0.86609178, 0.88534798, 0.89681423])"
      ]
     },
     "execution_count": 67,
     "metadata": {},
     "output_type": "execute_result"
    }
   ],
   "source": [
    "y_test_pred = y_test_pred.values.reshape(-1)\n",
    "y_test_pred[:10]"
   ]
  },
  {
   "cell_type": "code",
   "execution_count": 72,
   "id": "9bce2e1b",
   "metadata": {},
   "outputs": [
    {
     "data": {
      "text/html": [
       "<div>\n",
       "<style scoped>\n",
       "    .dataframe tbody tr th:only-of-type {\n",
       "        vertical-align: middle;\n",
       "    }\n",
       "\n",
       "    .dataframe tbody tr th {\n",
       "        vertical-align: top;\n",
       "    }\n",
       "\n",
       "    .dataframe thead th {\n",
       "        text-align: right;\n",
       "    }\n",
       "</style>\n",
       "<table border=\"1\" class=\"dataframe\">\n",
       "  <thead>\n",
       "    <tr style=\"text-align: right;\">\n",
       "      <th></th>\n",
       "      <th>index</th>\n",
       "      <th>Behaviour</th>\n",
       "      <th>Behaviour Predicted</th>\n",
       "    </tr>\n",
       "  </thead>\n",
       "  <tbody>\n",
       "    <tr>\n",
       "      <th>3682</th>\n",
       "      <td>105864</td>\n",
       "      <td>1</td>\n",
       "      <td>0.871329</td>\n",
       "    </tr>\n",
       "    <tr>\n",
       "      <th>11103</th>\n",
       "      <td>324574</td>\n",
       "      <td>1</td>\n",
       "      <td>0.873396</td>\n",
       "    </tr>\n",
       "    <tr>\n",
       "      <th>7016</th>\n",
       "      <td>221007</td>\n",
       "      <td>1</td>\n",
       "      <td>0.870193</td>\n",
       "    </tr>\n",
       "    <tr>\n",
       "      <th>10654</th>\n",
       "      <td>530762</td>\n",
       "      <td>1</td>\n",
       "      <td>0.890975</td>\n",
       "    </tr>\n",
       "    <tr>\n",
       "      <th>9602</th>\n",
       "      <td>41408</td>\n",
       "      <td>1</td>\n",
       "      <td>0.888821</td>\n",
       "    </tr>\n",
       "  </tbody>\n",
       "</table>\n",
       "</div>"
      ],
      "text/plain": [
       "        index  Behaviour  Behaviour Predicted\n",
       "3682   105864          1             0.871329\n",
       "11103  324574          1             0.873396\n",
       "7016   221007          1             0.870193\n",
       "10654  530762          1             0.890975\n",
       "9602    41408          1             0.888821"
      ]
     },
     "execution_count": 72,
     "metadata": {},
     "output_type": "execute_result"
    }
   ],
   "source": [
    "y_test_pred_final = pd.DataFrame({'Behaviour':y_train,'Behaviour Predicted':y_test_pred}).reset_index()\n",
    "y_test_pred_final.sample(5)"
   ]
  },
  {
   "cell_type": "markdown",
   "id": "943788d5",
   "metadata": {},
   "source": [
    "#### setting thrushold value(by hit and trail method) on probability for making prediction"
   ]
  },
  {
   "cell_type": "code",
   "execution_count": 133,
   "id": "87666898",
   "metadata": {},
   "outputs": [
    {
     "data": {
      "text/html": [
       "<div>\n",
       "<style scoped>\n",
       "    .dataframe tbody tr th:only-of-type {\n",
       "        vertical-align: middle;\n",
       "    }\n",
       "\n",
       "    .dataframe tbody tr th {\n",
       "        vertical-align: top;\n",
       "    }\n",
       "\n",
       "    .dataframe thead th {\n",
       "        text-align: right;\n",
       "    }\n",
       "</style>\n",
       "<table border=\"1\" class=\"dataframe\">\n",
       "  <thead>\n",
       "    <tr style=\"text-align: right;\">\n",
       "      <th></th>\n",
       "      <th>index</th>\n",
       "      <th>Behaviour</th>\n",
       "      <th>Behaviour Predicted</th>\n",
       "      <th>Predicted</th>\n",
       "    </tr>\n",
       "  </thead>\n",
       "  <tbody>\n",
       "    <tr>\n",
       "      <th>7311</th>\n",
       "      <td>562403</td>\n",
       "      <td>1</td>\n",
       "      <td>0.873123</td>\n",
       "      <td>1</td>\n",
       "    </tr>\n",
       "    <tr>\n",
       "      <th>1515</th>\n",
       "      <td>658710</td>\n",
       "      <td>1</td>\n",
       "      <td>0.880292</td>\n",
       "      <td>1</td>\n",
       "    </tr>\n",
       "    <tr>\n",
       "      <th>13378</th>\n",
       "      <td>250860</td>\n",
       "      <td>1</td>\n",
       "      <td>0.862672</td>\n",
       "      <td>1</td>\n",
       "    </tr>\n",
       "    <tr>\n",
       "      <th>15216</th>\n",
       "      <td>634040</td>\n",
       "      <td>1</td>\n",
       "      <td>0.883608</td>\n",
       "      <td>1</td>\n",
       "    </tr>\n",
       "    <tr>\n",
       "      <th>670</th>\n",
       "      <td>318557</td>\n",
       "      <td>0</td>\n",
       "      <td>0.868232</td>\n",
       "      <td>1</td>\n",
       "    </tr>\n",
       "  </tbody>\n",
       "</table>\n",
       "</div>"
      ],
      "text/plain": [
       "        index  Behaviour  Behaviour Predicted  Predicted\n",
       "7311   562403          1             0.873123          1\n",
       "1515   658710          1             0.880292          1\n",
       "13378  250860          1             0.862672          1\n",
       "15216  634040          1             0.883608          1\n",
       "670    318557          0             0.868232          1"
      ]
     },
     "execution_count": 133,
     "metadata": {},
     "output_type": "execute_result"
    }
   ],
   "source": [
    "y_test_pred_final['Predicted'] = y_test_pred_final['Behaviour Predicted'].map(lambda x: 1 if x>0.857 else 0)\n",
    "y_test_pred_final.sample(5)"
   ]
  },
  {
   "cell_type": "markdown",
   "id": "cf0263b9",
   "metadata": {},
   "source": [
    "#### Creating Confusion matrix"
   ]
  },
  {
   "cell_type": "code",
   "execution_count": 154,
   "id": "74eb98ef",
   "metadata": {},
   "outputs": [
    {
     "name": "stdout",
     "output_type": "stream",
     "text": [
      "[[  156  2006]\n",
      " [  871 14903]]\n"
     ]
    }
   ],
   "source": [
    "from sklearn import metrics\n",
    "\n",
    "confusion = metrics.confusion_matrix(y_test_pred_final['Behaviour'],y_test_pred_final['Predicted'])\n",
    "\n",
    "print(confusion)"
   ]
  },
  {
   "cell_type": "code",
   "execution_count": 155,
   "id": "c9775abe",
   "metadata": {},
   "outputs": [],
   "source": [
    "# Predicted         Bad                      Good\n",
    "# Actual      \n",
    "# Bad         156(True Negetive)    2006(False positive)\n",
    "# Good        871(False Negetive)   14903(True Positive)"
   ]
  },
  {
   "cell_type": "markdown",
   "id": "fe6c4a49",
   "metadata": {},
   "source": [
    "#### Checking accuracy of this Prediction model"
   ]
  },
  {
   "cell_type": "code",
   "execution_count": 156,
   "id": "f9aa284d",
   "metadata": {},
   "outputs": [
    {
     "name": "stdout",
     "output_type": "stream",
     "text": [
      "Model accuracy is:-  83.96 %\n"
     ]
    }
   ],
   "source": [
    "print('Model accuracy is:- ',round(100*metrics.accuracy_score(y_test_pred_final['Behaviour'],y_test_pred_final['Predicted']),2),'%')"
   ]
  },
  {
   "cell_type": "markdown",
   "id": "14f55ff9",
   "metadata": {},
   "source": [
    "### Calculating Precision and Recall \n",
    "#### Precision represents the proportion of correctly predicted \"good\" customers (true positives) out of all customers predicted as \"good\" (true positives + false positives).\n",
    "#### Recall (or sensitivity) represents the proportion of correctly predicted \"good\" customers (true positives) out of all actual \"good\" customers (true positives + false negatives)."
   ]
  },
  {
   "cell_type": "code",
   "execution_count": 157,
   "id": "d4e187fb",
   "metadata": {},
   "outputs": [
    {
     "name": "stdout",
     "output_type": "stream",
     "text": [
      "Precision: 0.8813649535750192\n",
      "Recall: 0.9447825535691644\n"
     ]
    }
   ],
   "source": [
    "# Confusion matrix values\n",
    "true_positive = 14903\n",
    "false_positive = 2006\n",
    "false_negative = 871\n",
    "\n",
    "# Calculate precision\n",
    "precision = true_positive / (true_positive + false_positive)\n",
    "\n",
    "# Calculate recall\n",
    "recall = true_positive / (true_positive + false_negative)\n",
    "\n",
    "# Print the results\n",
    "print(\"Precision:\", precision)\n",
    "print(\"Recall:\", recall)\n"
   ]
  },
  {
   "cell_type": "code",
   "execution_count": 158,
   "id": "cc12da29",
   "metadata": {},
   "outputs": [
    {
     "name": "stdout",
     "output_type": "stream",
     "text": [
      "Sensitivity (Recall): 0.9447825535691644\n",
      "Specificity: 0.07215541165587419\n"
     ]
    }
   ],
   "source": [
    "# Confusion matrix values\n",
    "true_positive = 14903\n",
    "false_positive = 2006\n",
    "false_negative = 871\n",
    "true_negative = 156\n",
    "\n",
    "# Calculate sensitivity (recall)\n",
    "sensitivity = true_positive / (true_positive + false_negative)\n",
    "\n",
    "# Calculate specificity\n",
    "specificity = true_negative / (true_negative + false_positive)\n",
    "\n",
    "# Print the results\n",
    "print(\"Sensitivity (Recall):\", sensitivity)\n",
    "print(\"Specificity:\", specificity)\n"
   ]
  },
  {
   "cell_type": "code",
   "execution_count": null,
   "id": "75f33b57",
   "metadata": {},
   "outputs": [],
   "source": []
  },
  {
   "cell_type": "code",
   "execution_count": null,
   "id": "2079d548",
   "metadata": {},
   "outputs": [],
   "source": []
  }
 ],
 "metadata": {
  "kernelspec": {
   "display_name": "Python 3 (ipykernel)",
   "language": "python",
   "name": "python3"
  },
  "language_info": {
   "codemirror_mode": {
    "name": "ipython",
    "version": 3
   },
   "file_extension": ".py",
   "mimetype": "text/x-python",
   "name": "python",
   "nbconvert_exporter": "python",
   "pygments_lexer": "ipython3",
   "version": "3.9.12"
  }
 },
 "nbformat": 4,
 "nbformat_minor": 5
}
